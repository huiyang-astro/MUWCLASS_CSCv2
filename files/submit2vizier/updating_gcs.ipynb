{
 "cells": [
  {
   "cell_type": "code",
   "execution_count": 5,
   "id": "a01de889",
   "metadata": {},
   "outputs": [],
   "source": [
    "import pandas as pd\n"
   ]
  },
  {
   "cell_type": "code",
   "execution_count": 21,
   "id": "c2daf4e8",
   "metadata": {},
   "outputs": [
    {
     "name": "stderr",
     "output_type": "stream",
     "text": [
      "/var/folders/ty/s6dnp14d37b0_qcxbb5frflw0000gn/T/ipykernel_44183/3490601615.py:1: DtypeWarning: Columns (59) have mixed types. Specify dtype option on import or set low_memory=False.\n",
      "  df = pd.read_csv('../GCS.csv')\n"
     ]
    }
   ],
   "source": [
    "df = pd.read_csv('../GCS.csv')\n",
    "cnt = 0\n",
    "with open('gcs.dat','r') as f:\n",
    "    newlines = []\n",
    "    for i, line in enumerate(f.readlines()):\n",
    "        #print(line[:21])\n",
    "        #print(df.loc[i, 'CSCv2_name'])\n",
    "        if line[:21]==df.loc[i, 'CSCv2_name']:\n",
    "            #print(line)\n",
    "            #print('ha')\n",
    "            ra = df.loc[i, 'CSCv2_RA']\n",
    "            newlines.append(f'{line[:22]}{ra:11.7f}{line[30:]}') \n",
    "            cnt += 1\n",
    "            \n",
    "with open('gcs_v07042023.dat', 'w') as f:\n",
    "    for line in newlines:\n",
    "        f.write(line)"
   ]
  }
 ],
 "metadata": {
  "kernelspec": {
   "display_name": "Python 3 (ipykernel)",
   "language": "python",
   "name": "python3"
  },
  "language_info": {
   "codemirror_mode": {
    "name": "ipython",
    "version": 3
   },
   "file_extension": ".py",
   "mimetype": "text/x-python",
   "name": "python",
   "nbconvert_exporter": "python",
   "pygments_lexer": "ipython3",
   "version": "3.10.8"
  }
 },
 "nbformat": 4,
 "nbformat_minor": 5
}
