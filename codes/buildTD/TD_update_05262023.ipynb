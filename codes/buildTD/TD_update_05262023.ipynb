{
 "cells": [
  {
   "cell_type": "code",
   "execution_count": 24,
   "id": "c25c8ad8",
   "metadata": {},
   "outputs": [],
   "source": [
    "import pandas as pd, numpy as np"
   ]
  },
  {
   "cell_type": "code",
   "execution_count": 25,
   "id": "8a206f46",
   "metadata": {},
   "outputs": [
    {
     "name": "stdout",
     "output_type": "stream",
     "text": [
      "             name_cat                  ref\n",
      "2714  AX J163904-4642  2013MNRAS.431..327L\n",
      "Index(['GLON', 'var_intra_prob', 'var_inter_prob', 'significance_max',\n",
      "       'Fcsc_s', 'e_Fcsc_s', 'Fcsc_m', 'e_Fcsc_m', 'Fcsc_h', 'e_Fcsc_h',\n",
      "       'flux_aper90_ave_b', 'powlaw_gamma_mean', 'e_powlaw_gamma_mean'],\n",
      "      dtype='object')\n",
      "Index(['GAIA_RA', 'GAIA_DEC', 'GAIA_PU', 'GAIA_sep', 'GAIA_n_srcs',\n",
      "       'GAIA_Source', 'GAIA_RA_ICRS', 'GAIA_DE_ICRS', 'GAIA__r', 'GAIA_e_Pos',\n",
      "       'GAIA_Plx', 'GAIA_e_Plx', 'GAIA_PM', 'GAIA_pmRA', 'GAIA_pmDE',\n",
      "       'GAIA_e_PM', 'GAIA_epsi', 'Gmag', 'BPmag', 'RPmag', 'e_Gmag', 'e_BPmag',\n",
      "       'e_RPmag', 'GAIA_AllWISE', 'GAIA_dAllWISE', 'GAIA_f_AllWISE',\n",
      "       'GAIA_AllWISEoid', 'GAIA__2MASS', 'GAIA_d2MASS', 'GAIA_f_2MASS',\n",
      "       'GAIA__2MASScoid', 'Separation_GAIA_CSC', 'Separation_GAIA_CSC_ra',\n",
      "       'Separation_GAIA_CSC_dec', 'Separation_max', 'ncat', 'dist_bayesfactor',\n",
      "       'dist_post', 'p_single', 'p_any', 'p_i', 'match_flag'],\n",
      "      dtype='object')\n",
      "Index(['Gaia', '_q', 'E_BP_RP_', 'rgeo', 'b_rgeo', 'B_rgeo', 'rpgeo',\n",
      "       'b_rpgeo', 'B_rpgeo', 'Flag', 'AllWISE', 'ex', 'W3mag', 'e_W3mag',\n",
      "       '_2MASS', 'Jmag', 'e_Jmag', 'Hmag', 'e_Hmag', 'Kmag', 'e_Kmag',\n",
      "       'ALLWISE_n_srcs', 'ALLWISE_RA', 'ALLWISE_DEC', 'ALLWISE_err0',\n",
      "       'TMASS_n_srcs', 'TMASS_RA', 'TMASS_DEC', 'TMASS_err0', 'CATWISE_n_srcs',\n",
      "       'CATWISE_RA', 'CATWISE_DEC', 'CATWISE_PU', 'W1mproPM', 'W2mproPM',\n",
      "       'e_W1mproPM', 'e_W2mproPM', 'sep_GC', 'sep_CT', 'sep_CA', 'sep_TA',\n",
      "       'W1mag', 'e_W1mag', 'W2mag', 'e_W2mag'],\n",
      "      dtype='object')\n"
     ]
    }
   ],
   "source": [
    "TD = pd.read_csv('/Users/huiyang/Research/GitHub/MUWCLASS_4FGL/files/CSCv2_TD_05012023_MW.csv')\n",
    "\n",
    "#TD.columns[:100]\n",
    "#print(TD.loc[TD['name'].isin(['2CXO J043715.8-471508','2CXO J163553.8-472540']), 'Class'])\n",
    "TD.loc[TD['name']=='2CXO J043715.8-471508', 'Class'] = 'LMXB'\n",
    "#TD.loc[TD['name']=='2CXO J163553.8-472540', 'Class'] = 'LMXB'\n",
    "#TD.loc[TD['name']=='2CXO J163553.8-472540', 'ref'] = '2010A&A...516A..94N'\n",
    "TD.loc[TD['name']=='2CXO J163553.8-472540', ['Class','ref']] = 'LMXB', '2010A&A...516A..94N'\n",
    "TD.loc[TD['name']=='2CXO J081228.3-311452', ['name_cat','ref']] = 'RX J0812.4-3114', '2019MNRAS.488.4427Z'\n",
    "TD.loc[TD['name']=='2CXO J174954.6-294335', ['name_cat','ref']] = 'OGLE BLG501.24 34934', 'Simbad'\n",
    "TD.loc[TD['name']=='2CXO J131825.0-625815', ['name_cat','ref']] = 'IGR J13186-6257', '2018A&A...618A.150F'\n",
    "TD.loc[TD['name']=='2CXO J163905.4-464212', ['name_cat','ref']] = 'AX J163904-4642', '2013MNRAS.431..327L'\n",
    "TD.loc[TD['name']=='2CXO J174906.8-273233', ['name_cat','ref']] = 'AX J1749.1-2733', '2023arXiv230316137N'\n",
    "TD.loc[TD['name']=='2CXO J174912.4-272538', ['name_cat','ref']] = '2XMM J174912.3-272537', 'Simbad'\n",
    "\n",
    "\n",
    "print(TD.loc[TD['name']=='2CXO J163905.4-464212', ['name_cat','ref']])\n",
    "#TD.loc[TD['name']=='2CXO J163553.8-472540', 'Class'] = 'LMXB'\n",
    "#TD.loc[TD['name']=='2CXO J163553.8-472540', 'ref'] = '2010A&A...516A..94N'\n",
    "\n",
    "\n",
    "print(TD.columns[100:])\n",
    "print(TD.columns[6:48])\n",
    "print(TD.columns[49:94])\n",
    "\n",
    "#TD.loc[TD['Class']=='NS', ['Gmag','BPmag','RPmag','Jmag','Hmag','Kmag','W1mag','W2mag','W3mag',\n",
    "                          #'e_Gmag','e_BPmag','e_RPmag','e_Jmag','e_Hmag','e_Kmag','e_W1mag','e_W2mag','e_W3mag']] = np.nan\n",
    "TD.iloc[TD['Class']=='NS', np.r_[6:48, 49:94]] = np.nan"
   ]
  },
  {
   "cell_type": "code",
   "execution_count": 35,
   "id": "6c07a675",
   "metadata": {},
   "outputs": [],
   "source": [
    "TD = TD.rename(columns={'flux_aper90_ave_b':'Fcsc_b','significance_max':'significance'})\n",
    "TD.to_csv('./data/CSCv2_TD_05262023_MW.csv',index=False)\n",
    "\n",
    "TD.rename(columns={'Fcsc_b':'F_b','Fcsc_h':'F_h','Fcsc_m':'F_m','Fcsc_s':'F_s','var_inter_prob':'P_inter','var_intra_prob':'P_intra','Gmag':'G','BPmag':'BP','RPmag':'RP','Jmag':'J','Hmag':'H','Kmag':'K','W1mag':'W1','W2mag':'W2','W3mag':'W3'}).to_csv('/Users/huiyang/Research/GitHub/XCLASS/for_hui_5b6/CSCv2TD/v05292023/CSCv2_TD_05262023_XCLASS.csv',index=False)\n",
    "\n",
    "\n",
    "\n",
    "# \n",
    "#TD_save = \n",
    "TD[['name','ra','dec','Class','Fcsc_b','Fcsc_h','Fcsc_m','Fcsc_s','var_inter_prob','var_intra_prob','significance','Gmag','BPmag','RPmag','Jmag','Hmag','Kmag','W1mag','W2mag','W3mag','rgeo']].head().rename(columns={'Fcsc_b':'F_b','Fcsc_h':'F_h','Fcsc_m':'F_m','Fcsc_s':'F_s','var_inter_prob':'P_inter','var_intra_prob':'P_intra','Gmag':'G','BPmag':'BP','RPmag':'RP','Jmag':'J','Hmag':'H','Kmag':'K','W1mag':'W1','W2mag':'W2','W3mag':'W3'}).to_csv('/Users/huiyang/Research/GitHub/XCLASS/for_hui_5b6/CSCv2TD/v05292023/custom.csv',index=False)\n",
    "\n",
    "#TD_save\n"
   ]
  },
  {
   "cell_type": "code",
   "execution_count": null,
   "id": "60c78c62",
   "metadata": {},
   "outputs": [],
   "source": []
  }
 ],
 "metadata": {
  "kernelspec": {
   "display_name": "Python 3 (ipykernel)",
   "language": "python",
   "name": "python3"
  },
  "language_info": {
   "codemirror_mode": {
    "name": "ipython",
    "version": 3
   },
   "file_extension": ".py",
   "mimetype": "text/x-python",
   "name": "python",
   "nbconvert_exporter": "python",
   "pygments_lexer": "ipython3",
   "version": "3.9.13"
  }
 },
 "nbformat": 4,
 "nbformat_minor": 5
}
