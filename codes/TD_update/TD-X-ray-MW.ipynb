{
 "cells": [
  {
   "cell_type": "code",
   "execution_count": 59,
   "id": "684a061a",
   "metadata": {},
   "outputs": [],
   "source": [
    "import numpy as np\n",
    "import pandas as pd\n",
    "from collections import Counter\n",
    "from astropy.io.fits import getdata\n",
    "from astropy import units as u\n",
    "from astropy.coordinates import SkyCoord, Angle\n",
    "from astroquery.vizier import Vizier\n",
    "from astropy.table import Table\n",
    "from astroquery.xmatch import XMatch\n",
    "from astroquery.simbad import Simbad\n",
    "import time\n",
    "\n",
    "\n",
    "import sys  \n",
    "sys.path.insert(0, '../')\n",
    "\n",
    "from prepare_library import create_perobs_data, cal_ave\n",
    "from TD_dictionary import rare_sources_saving_dict \n",
    "\n",
    "import warnings\n",
    "warnings.filterwarnings('ignore')\n",
    "\n",
    "Vizier.ROW_LIMIT = -1\n",
    "exnum = -999999."
   ]
  },
  {
   "cell_type": "code",
   "execution_count": 2,
   "id": "e69bed2e",
   "metadata": {},
   "outputs": [],
   "source": [
    "field_name = 'CSCv2_TD_11162022'\n",
    "df_TD_final = pd.read_csv('./data/CSCv2_TD_11162022_final.csv')\n",
    "df_TD_final['name']\n",
    "\n",
    "# extract per-observation data from CSCv2 \n",
    "query_dir = '../data/query'\n",
    "\n",
    "data_dir = './data'"
   ]
  },
  {
   "cell_type": "code",
   "execution_count": null,
   "id": "defc2c93",
   "metadata": {},
   "outputs": [],
   "source": []
  },
  {
   "cell_type": "code",
   "execution_count": 4,
   "id": "39ca49bd",
   "metadata": {},
   "outputs": [
    {
     "name": "stdout",
     "output_type": "stream",
     "text": [
      "Operating system is: posix\n"
     ]
    }
   ],
   "source": [
    "\n",
    "df_pers = create_perobs_data(df_TD_final, query_dir, data_dir, name_type='CSCview', name_col='name', ra_col='ra',dec_col='dec',coord_format='deg',engine='wget')\n",
    "df_pers.to_csv(f'{data_dir}/{field_name}_per.csv', index=False)"
   ]
  },
  {
   "cell_type": "code",
   "execution_count": 5,
   "id": "3f832a6d",
   "metadata": {},
   "outputs": [
    {
     "name": "stdout",
     "output_type": "stream",
     "text": [
      "There are 20360 per-obs data.\n",
      "Run add_newdata......\n",
      "Before adding new data:\n",
      "Run stats......\n",
      " H   M   S    #    %  \n",
      "--- --- --- ----- ----\n",
      "  Y   Y   Y 15771 77.4\n",
      "  Y   Y   N   962  4.7\n",
      "  N   Y   Y   588  2.8\n",
      "  Y   N   Y   344  1.6\n",
      "  N   Y   N    99  0.4\n",
      "  Y   N   N   504  2.4\n",
      "  N   N   Y   271  1.3\n",
      "  N   N   N  1821  8.9\n",
      " ~Y   Y   Y  4589 22.5\n",
      "-----------------\n",
      "total:      20360\n",
      "Only  15771  detections have valid fluxes at all bands.\n",
      "After adding new  2289 s band data:\n",
      "Run stats......\n",
      " H   M   S    #    %  \n",
      "--- --- --- ----- ----\n",
      "  Y   Y   Y 16241 79.7\n",
      "  Y   Y   N   492  2.4\n",
      "  N   Y   Y   621  3.0\n",
      "  Y   N   Y   529  2.5\n",
      "  N   Y   N    66  0.3\n",
      "  Y   N   N   319  1.5\n",
      "  N   N   Y   391  1.9\n",
      "  N   N   N  1701  8.3\n",
      " ~Y   Y   Y  4119 20.2\n",
      "-----------------\n",
      "total:      20360\n",
      "Only  16241  detections have valid fluxes at all bands.\n",
      "After adding new  1420 m band data:\n",
      "Run stats......\n",
      " H   M   S    #    %  \n",
      "--- --- --- ----- ----\n",
      "  Y   Y   Y 16510 81.0\n",
      "  Y   Y   N   493  2.4\n",
      "  N   Y   Y   773  3.7\n",
      "  Y   N   Y   260  1.2\n",
      "  N   Y   N    70  0.3\n",
      "  Y   N   N   318  1.5\n",
      "  N   N   Y   239  1.1\n",
      "  N   N   N  1697  8.3\n",
      " ~Y   Y   Y  3850 18.9\n",
      "-----------------\n",
      "total:      20360\n",
      "Only  16510  detections have valid fluxes at all bands.\n",
      "After adding new  845 h band data:\n",
      "Run stats......\n",
      " H   M   S    #    %  \n",
      "--- --- --- ----- ----\n",
      "  Y   Y   Y 16815 82.5\n",
      "  Y   Y   N   499  2.4\n",
      "  N   Y   Y   468  2.2\n",
      "  Y   N   Y   280  1.3\n",
      "  N   Y   N    64  0.3\n",
      "  Y   N   N   318  1.5\n",
      "  N   N   Y   219  1.0\n",
      "  N   N   N  1697  8.3\n",
      " ~Y   Y   Y  3545 17.4\n",
      "-----------------\n",
      "total:      20360\n",
      "Only  16815  detections have valid fluxes at all bands.\n",
      "Run nan_flux......\n",
      "Counter({'AGN': 1419, 'YSO': 750, 'LM-STAR': 711, 'CV': 215, 'HM-STAR': 163, 'NS': 119, 'LMXB': 65, 'HMXB': 46, 'NS_BIN': 43})\n"
     ]
    }
   ],
   "source": [
    "# Calculate the weighted average fluxes and variability parameters for X-ray properties\n",
    "# Will generate warnings but they can be ignored.\n",
    "\n",
    "df_pers = pd.read_csv(f'{data_dir}/{field_name}_per.csv', low_memory=False)\n",
    "\n",
    "df_pers['name'] = df_pers['name'].str.lstrip()\n",
    "df_pers['per_remove_code'] = 0\n",
    "\n",
    "newdata_dir = '/Users/huiyang/Research/GitHub/MUWCLASS_CSCv2/codes/buildTD/data'\n",
    "df_ave, df_obs = cal_ave(df_pers, data_dir=newdata_dir, dtype='TD',Chandratype='CSC')\n",
    "\n",
    "\n",
    "df_ave = pd.merge(df_ave, df_TD_final.iloc[:, np.r_[:9]], how='inner', on='name')\n",
    "print(Counter(df_ave.Class))\n",
    "df_ave.to_csv(f'{data_dir}/{field_name}_ave.csv', index=False)\n",
    "\n"
   ]
  },
  {
   "cell_type": "code",
   "execution_count": 12,
   "id": "d33f8861",
   "metadata": {},
   "outputs": [
    {
     "name": "stdout",
     "output_type": "stream",
     "text": [
      "3821 Counter({'AGN': 1571, 'YSO': 754, 'LM-STAR': 743, 'CV': 236, 'HM-STAR': 167, 'NS': 134, 'LMXB': 98, 'HMXB': 74, 'NS_BIN': 44})\n",
      "3531 Counter({'AGN': 1419, 'YSO': 750, 'LM-STAR': 711, 'CV': 215, 'HM-STAR': 163, 'NS': 119, 'LMXB': 65, 'HMXB': 46, 'NS_BIN': 43})\n",
      "                        name          name_cat    ra_cat  dec_cat  e_Pos  \\\n",
      "3159  2CXO J171236.7-373841X  SAX J1712.6-3739  258.1531 -37.6447    NaN   \n",
      "\n",
      "     Class SubClass                         ref       sep          ra  ...  \\\n",
      "3159  LMXB   LMXB;X  2018ApJS..235....4O;SIMBAD  0.305714  258.153201  ...   \n",
      "\n",
      "         r1   PA     PU  nbref  coo_bibcode  rare-type remove_regions  \\\n",
      "3159  1.137  0.0  1.137    NaN          NaN          1   |CSCconfused   \n",
      "\n",
      "            GLAT      GLON  comment  \n",
      "3159  348.938954  0.919325      NaN  \n",
      "\n",
      "[1 rows x 22 columns]\n"
     ]
    }
   ],
   "source": []
  },
  {
   "cell_type": "code",
   "execution_count": 4,
   "id": "56e1476f",
   "metadata": {},
   "outputs": [
    {
     "name": "stdout",
     "output_type": "stream",
     "text": [
      "3428 Counter({'AGN': 1552, 'YSO': 754, 'LM-STAR': 673, 'HM-STAR': 133, 'NS': 111, 'CV': 68, 'LMXB': 58, 'HMXB': 52, 'NS_BIN': 27})\n",
      "3177 Counter({'AGN': 1403, 'YSO': 750, 'LM-STAR': 644, 'HM-STAR': 129, 'NS': 97, 'CV': 53, 'LMXB': 41, 'HMXB': 33, 'NS_BIN': 27})\n"
     ]
    }
   ],
   "source": [
    "field_name = 'CSCv2_TD_10182022'\n",
    "df_ave = pd.read_csv(f'{data_dir}/{field_name}_ave.csv')\n",
    "df_TD_final = pd.read_csv(f'./data/{field_name}_final.csv')\n",
    "\n",
    "\n",
    "print(len(df_TD_final),Counter(df_TD_final['Class']))\n",
    "\n",
    "print(len(df_ave),Counter(df_ave['Class']))"
   ]
  },
  {
   "cell_type": "code",
   "execution_count": 13,
   "id": "b58071d5",
   "metadata": {},
   "outputs": [
    {
     "name": "stdout",
     "output_type": "stream",
     "text": [
      "3429 Counter({'AGN': 1552, 'YSO': 754, 'LM-STAR': 673, 'HM-STAR': 133, 'NS': 113, 'CV': 65, 'LMXB': 57, 'HMXB': 55, 'NS_BIN': 27})\n",
      "3164 Counter({'AGN': 1403, 'YSO': 750, 'LM-STAR': 644, 'HM-STAR': 129, 'NS': 98, 'CV': 51, 'HMXB': 32, 'LMXB': 30, 'NS_BIN': 27})\n"
     ]
    }
   ],
   "source": [
    "field_name = 'CSCv2_TD_11042022'\n",
    "df_ave = pd.read_csv(f'{data_dir}/{field_name}_ave.csv')\n",
    "\n",
    "df_TD_final = pd.read_csv(f'./data/{field_name}_final.csv')\n",
    "\n",
    "print(len(df_TD_final),Counter(df_TD_final['Class']))\n",
    "\n",
    "print(len(df_ave),Counter(df_ave['Class']))\n"
   ]
  },
  {
   "cell_type": "code",
   "execution_count": 20,
   "id": "156c6a05",
   "metadata": {},
   "outputs": [
    {
     "name": "stdout",
     "output_type": "stream",
     "text": [
      "3821 Counter({'AGN': 1571, 'YSO': 754, 'LM-STAR': 743, 'CV': 236, 'HM-STAR': 167, 'NS': 134, 'LMXB': 98, 'HMXB': 74, 'NS_BIN': 44})\n",
      "3531 Counter({'AGN': 1419, 'YSO': 750, 'LM-STAR': 711, 'CV': 215, 'HM-STAR': 163, 'NS': 119, 'LMXB': 65, 'HMXB': 46, 'NS_BIN': 43})\n"
     ]
    }
   ],
   "source": [
    "field_name = 'CSCv2_TD_11162022'\n",
    "df_ave = pd.read_csv(f'{data_dir}/{field_name}_ave.csv')\n",
    "df_TD_final = pd.read_csv(f'./data/{field_name}_final.csv')\n",
    "\n",
    "\n",
    "print(len(df_TD_final),Counter(df_TD_final['Class']))\n",
    "\n",
    "print(len(df_ave),Counter(df_ave['Class']))\n",
    "#print(df_TD_final[df_TD_final['name']=='2CXO J171236.7-373841X'])"
   ]
  },
  {
   "cell_type": "code",
   "execution_count": 116,
   "id": "580af2fb",
   "metadata": {},
   "outputs": [
    {
     "name": "stdout",
     "output_type": "stream",
     "text": [
      "      CSC_ID      CSC_RA    CSC_DEC  CSC_err_r0  CSC_err_r1  CSC_PA  \\\n",
      "3344       1  258.153201 -37.644729       1.137       1.137     0.0   \n",
      "3345       2  258.153220 -37.644746       0.710       0.710     0.0   \n",
      "\n",
      "              CSC__2CXO  CSC__r  CSC_fe  CSC_fc  ...  ncat  dist_bayesfactor  \\\n",
      "3344  J171236.7-373841X   0.031       1      63  ...     1               0.0   \n",
      "3345   J171236.7-373841   0.083       1       0  ...     1               0.0   \n",
      "\n",
      "      dist_bayesfactor_corrected  dist_post  p_single  p_any  p_i  match_flag  \\\n",
      "3344                         0.0        1.0       1.0    0.0  0.0           1   \n",
      "3345                         0.0        1.0       1.0    0.0  0.0           1   \n",
      "\n",
      "                        name  Gaia  \n",
      "3344  2CXO J171236.7-373841X   -99  \n",
      "3345   2CXO J171236.7-373841   -99  \n",
      "\n",
      "[2 rows x 105 columns]\n",
      "3822\n",
      "1    3822\n",
      "2     257\n",
      "Name: match_flag, dtype: int64\n"
     ]
    }
   ],
   "source": [
    "field_name = 'CSCv2_TD_11162022'\n",
    "#field_name = 'CSCv2_TD_11042022'\n",
    "TD_MW = pd.read_csv(f'../nway_cross-matching/{field_name}_MW.csv')\n",
    "\n",
    "#print(TD_MW[~TD_MW['name'].isin(df_TD_final['name'])])\n",
    "print(TD_MW[TD_MW['name'].isin(['2CXO J171236.7-373841','2CXO J171236.7-373841X'])])\n",
    "print(len(TD_MW['name'].unique()))\n",
    "print(TD_MW['match_flag'].value_counts())\n",
    "\n",
    "TD_MW = TD_MW[TD_MW['match_flag']==1].reset_index(drop=True)"
   ]
  },
  {
   "cell_type": "code",
   "execution_count": 117,
   "id": "782ddfba",
   "metadata": {},
   "outputs": [
    {
     "name": "stdout",
     "output_type": "stream",
     "text": [
      "Index(['name', 'usrid', 'ra_pnt', 'dec_pnt', 'ra', 'dec', 'err_ellipse_r0',\n",
      "       'err_ellipse_r1', 'err_ellipse_ang', 'significance', 'extent_flag',\n",
      "       'pileup_flag', 'sat_src_flag', 'streak_src_flag', 'conf_flag',\n",
      "       'flux_aper90_mean_b', 'e_flux_aper90_mean_b', 'flux_aper90_mean_h',\n",
      "       'e_flux_aper90_mean_h', 'flux_aper90_mean_m', 'e_flux_aper90_mean_m',\n",
      "       'flux_aper90_mean_s', 'e_flux_aper90_mean_s', 'kp_intra_prob_b',\n",
      "       'ks_intra_prob_b', 'var_inter_prob_b', 'nh_gal', 'flux_powlaw_mean',\n",
      "       'e_flux_powlaw_mean', 'powlaw_gamma_mean', 'e_powlaw_gamma_mean',\n",
      "       'powlaw_nh_mean', 'e_powlaw_nh_mean', 'powlaw_ampl_mean',\n",
      "       'e_powlaw_ampl_mean', 'powlaw_stat', 'remove_code',\n",
      "       'flux_significance_b_max', 'flux_aper90_ave_s', 'e_flux_aper90_ave_s',\n",
      "       'flux_aper90_ave_m', 'e_flux_aper90_ave_m', 'flux_aper90_ave_h',\n",
      "       'e_flux_aper90_ave_h', 'chisqr', 'dof', 'kp_prob_b_max',\n",
      "       'var_inter_prob', 'significance_max', 'flux_flag', 'flux_aper90_ave_b',\n",
      "       'e_flux_aper90_ave_b', 'name_cat', 'ra_cat', 'dec_cat', 'e_Pos',\n",
      "       'Class', 'SubClass', 'ref', 'sep'],\n",
      "      dtype='object') Index(['CSC_ID', 'CSC_RA', 'CSC_DEC', 'CSC_err_r0', 'CSC_err_r1', 'CSC_PA',\n",
      "       'CSC__2CXO', 'CSC__r', 'CSC_fe', 'CSC_fc', 'GAIA_RA', 'GAIA_DEC',\n",
      "       'GAIA_PU', 'GAIA_Source', 'GAIA__r', 'GAIA_e_Pos', 'GAIA_Plx',\n",
      "       'GAIA_e_Plx', 'GAIA_PM', 'GAIA_e_PM', 'GAIA_epsi', 'GAIA_Gmag',\n",
      "       'GAIA_BPmag', 'GAIA_RPmag', 'GAIA_e_Gmag', 'GAIA_e_BPmag',\n",
      "       'GAIA_e_RPmag', 'TMASS_RA', 'TMASS_DEC', 'TMASS_err0', 'TMASS_err1',\n",
      "       'TMASS_errPA', 'TMASS__2MASS', 'TMASS__r', 'TMASS_Jmag', 'TMASS_Hmag',\n",
      "       'TMASS_Kmag', 'TMASS_e_Jmag', 'TMASS_e_Hmag', 'TMASS_e_Kmag',\n",
      "       'ALLWISE_RA', 'ALLWISE_DEC', 'ALLWISE_err0', 'ALLWISE_err1',\n",
      "       'ALLWISE_errPA', 'ALLWISE_AllWISE', 'ALLWISE__r', 'ALLWISE_W1mag',\n",
      "       'ALLWISE_W2mag', 'ALLWISE_W3mag', 'ALLWISE_W4mag', 'ALLWISE_e_W1mag',\n",
      "       'ALLWISE_e_W2mag', 'ALLWISE_e_W3mag', 'ALLWISE_e_W4mag', 'CATWISE_RA',\n",
      "       'CATWISE_DEC', 'CATWISE_PU', 'CATWISE_Name', 'CATWISE__r'],\n",
      "      dtype='object')\n",
      "3531\n"
     ]
    }
   ],
   "source": [
    "print(df_ave.columns,TD_MW.columns[:60])\n",
    "\n",
    "df_comb = pd.merge(df_ave, TD_MW, on='name', how='inner')\n",
    "print(len(df_comb))\n",
    "df_comb = pd.merge(df_comb, df_TD_final[['name','rare-type', 'remove_regions', 'GLAT', 'GLON','comment']], on='name', how='inner')"
   ]
  },
  {
   "cell_type": "code",
   "execution_count": 118,
   "id": "05e9e04c",
   "metadata": {},
   "outputs": [
    {
     "name": "stdout",
     "output_type": "stream",
     "text": [
      "Index(['flux_aper90_ave_b', 'e_flux_aper90_ave_b', 'name_cat', 'ra_cat',\n",
      "       'dec_cat', 'e_Pos', 'Class', 'SubClass', 'ref', 'sep', 'CSC_ID',\n",
      "       'CSC_RA', 'CSC_DEC', 'CSC_err_r0', 'CSC_err_r1', 'CSC_PA', 'CSC__2CXO',\n",
      "       'CSC__r', 'CSC_fe', 'CSC_fc', 'GAIA_RA', 'GAIA_DEC', 'GAIA_PU',\n",
      "       'GAIA_Source', 'GAIA__r', 'GAIA_e_Pos', 'GAIA_Plx', 'GAIA_e_Plx',\n",
      "       'GAIA_PM', 'GAIA_e_PM', 'GAIA_epsi', 'GAIA_Gmag', 'GAIA_BPmag',\n",
      "       'GAIA_RPmag', 'GAIA_e_Gmag', 'GAIA_e_BPmag', 'GAIA_e_RPmag', 'TMASS_RA',\n",
      "       'TMASS_DEC', 'TMASS_err0', 'TMASS_err1', 'TMASS_errPA', 'TMASS__2MASS',\n",
      "       'TMASS__r', 'TMASS_Jmag', 'TMASS_Hmag', 'TMASS_Kmag', 'TMASS_e_Jmag',\n",
      "       'TMASS_e_Hmag', 'TMASS_e_Kmag'],\n",
      "      dtype='object')\n",
      "Index(['name', 'name_cat', 'ra_cat', 'dec_cat', 'e_Pos', 'Class', 'SubClass',\n",
      "       'ref', 'sep', 'ra', 'dec', 'r0', 'r1', 'PA', 'PU', 'nbref',\n",
      "       'coo_bibcode', 'rare-type', 'remove_regions', 'GLAT', 'GLON',\n",
      "       'comment'],\n",
      "      dtype='object')\n"
     ]
    }
   ],
   "source": [
    "print(df_comb.columns[50:100])\n",
    "print(df_TD_final.columns)"
   ]
  },
  {
   "cell_type": "code",
   "execution_count": 119,
   "id": "2614607b",
   "metadata": {},
   "outputs": [],
   "source": [
    "#TD_MW = \n",
    "\n",
    "#raretype_GalacticBulge = df_comb[df_comb['rare-type']==1]"
   ]
  },
  {
   "cell_type": "code",
   "execution_count": 120,
   "id": "2000ab74",
   "metadata": {},
   "outputs": [
    {
     "name": "stdout",
     "output_type": "stream",
     "text": [
      "              GAIA_Source         CSC__2CXO\n",
      "0     2848205298895660416  J000150.5+233015\n",
      "1     2860586826320959232  J001826.4+300400\n",
      "2      423793597149050752  J005240.0+562837\n",
      "3      313508874324686208  J010705.6+321056\n",
      "4     2579513759765160448  J011142.0+085149\n",
      "...                   ...               ...\n",
      "2620  2738473415672342144  J235718.3+004350\n",
      "2621  2738267669559100544  J235833.2+003453\n",
      "2622  6488149125448220800  J235904.2-605459\n",
      "2623  2335101047989043200  J235939.7-250056\n",
      "2624  2312679982969581184  J235942.1-345953\n",
      "\n",
      "[2625 rows x 2 columns]\n"
     ]
    }
   ],
   "source": [
    "#t = Table.from_pandas(df_comb.loc[(df_comb['GAIA_Source']!=-99) & (df_comb['GAIA_Source']!=1e20), ['GAIA_Source','CSC__2CXO']])\n",
    "\n",
    "TD_gaia = df_comb.loc[(df_comb['GAIA_Source']!=-99) & (df_comb['GAIA_Source']!=1e20), ['GAIA_Source','CSC__2CXO']].reset_index(drop=True)\n",
    "print(TD_gaia)\n",
    "t = Table.from_pandas(TD_gaia)\n",
    "t.write('./data/TD_Gaia.fits', overwrite=True)"
   ]
  },
  {
   "cell_type": "code",
   "execution_count": 121,
   "id": "9bde5989",
   "metadata": {},
   "outputs": [
    {
     "data": {
      "text/html": [
       "<div>\n",
       "<style scoped>\n",
       "    .dataframe tbody tr th:only-of-type {\n",
       "        vertical-align: middle;\n",
       "    }\n",
       "\n",
       "    .dataframe tbody tr th {\n",
       "        vertical-align: top;\n",
       "    }\n",
       "\n",
       "    .dataframe thead th {\n",
       "        text-align: right;\n",
       "    }\n",
       "</style>\n",
       "<table border=\"1\" class=\"dataframe\">\n",
       "  <thead>\n",
       "    <tr style=\"text-align: right;\">\n",
       "      <th></th>\n",
       "      <th>td_gaia_1116_oid</th>\n",
       "      <th>GAIA_Source</th>\n",
       "      <th>csc__2cxo</th>\n",
       "      <th>source_id</th>\n",
       "      <th>rgeo</th>\n",
       "      <th>b_rgeo</th>\n",
       "      <th>B_rgeo</th>\n",
       "      <th>r_med_photogeo</th>\n",
       "      <th>r_lo_photogeo</th>\n",
       "      <th>r_hi_photogeo</th>\n",
       "      <th>flag</th>\n",
       "    </tr>\n",
       "  </thead>\n",
       "  <tbody>\n",
       "    <tr>\n",
       "      <th>0</th>\n",
       "      <td>1</td>\n",
       "      <td>2848205298895660416</td>\n",
       "      <td>J000150.5+233015</td>\n",
       "      <td>2848205298895660416</td>\n",
       "      <td>190.325455</td>\n",
       "      <td>189.537354</td>\n",
       "      <td>190.873550</td>\n",
       "      <td>190.309402</td>\n",
       "      <td>189.739410</td>\n",
       "      <td>190.800888</td>\n",
       "      <td>10033</td>\n",
       "    </tr>\n",
       "    <tr>\n",
       "      <th>1</th>\n",
       "      <td>2</td>\n",
       "      <td>2860586826320959232</td>\n",
       "      <td>J001826.4+300400</td>\n",
       "      <td>2860586826320959232</td>\n",
       "      <td>1090.344238</td>\n",
       "      <td>1071.469482</td>\n",
       "      <td>1109.249023</td>\n",
       "      <td>1081.566895</td>\n",
       "      <td>1064.833862</td>\n",
       "      <td>1099.735474</td>\n",
       "      <td>10033</td>\n",
       "    </tr>\n",
       "    <tr>\n",
       "      <th>2</th>\n",
       "      <td>3</td>\n",
       "      <td>423793597149050752</td>\n",
       "      <td>J005240.0+562837</td>\n",
       "      <td>423793597149050752</td>\n",
       "      <td>279.919128</td>\n",
       "      <td>278.484192</td>\n",
       "      <td>281.259705</td>\n",
       "      <td>280.002930</td>\n",
       "      <td>278.943024</td>\n",
       "      <td>281.291962</td>\n",
       "      <td>10033</td>\n",
       "    </tr>\n",
       "    <tr>\n",
       "      <th>3</th>\n",
       "      <td>4</td>\n",
       "      <td>313508874324686208</td>\n",
       "      <td>J010705.6+321056</td>\n",
       "      <td>313508874324686208</td>\n",
       "      <td>336.586426</td>\n",
       "      <td>324.778503</td>\n",
       "      <td>348.501251</td>\n",
       "      <td>337.011963</td>\n",
       "      <td>327.051025</td>\n",
       "      <td>349.826843</td>\n",
       "      <td>10033</td>\n",
       "    </tr>\n",
       "    <tr>\n",
       "      <th>4</th>\n",
       "      <td>5</td>\n",
       "      <td>2579513759765160448</td>\n",
       "      <td>J011142.0+085149</td>\n",
       "      <td>2579513759765160448</td>\n",
       "      <td>663.244690</td>\n",
       "      <td>646.929932</td>\n",
       "      <td>677.217773</td>\n",
       "      <td>661.934021</td>\n",
       "      <td>640.590393</td>\n",
       "      <td>680.602051</td>\n",
       "      <td>10033</td>\n",
       "    </tr>\n",
       "    <tr>\n",
       "      <th>...</th>\n",
       "      <td>...</td>\n",
       "      <td>...</td>\n",
       "      <td>...</td>\n",
       "      <td>...</td>\n",
       "      <td>...</td>\n",
       "      <td>...</td>\n",
       "      <td>...</td>\n",
       "      <td>...</td>\n",
       "      <td>...</td>\n",
       "      <td>...</td>\n",
       "      <td>...</td>\n",
       "    </tr>\n",
       "    <tr>\n",
       "      <th>2305</th>\n",
       "      <td>2618</td>\n",
       "      <td>2867212625125183488</td>\n",
       "      <td>J235456.4+292832</td>\n",
       "      <td>2867212625125183488</td>\n",
       "      <td>115.925903</td>\n",
       "      <td>113.431839</td>\n",
       "      <td>118.614845</td>\n",
       "      <td>115.725143</td>\n",
       "      <td>113.246025</td>\n",
       "      <td>118.208130</td>\n",
       "      <td>10022</td>\n",
       "    </tr>\n",
       "    <tr>\n",
       "      <th>2306</th>\n",
       "      <td>2619</td>\n",
       "      <td>2449783654115281920</td>\n",
       "      <td>J235653.8-010731</td>\n",
       "      <td>2449783654115281920</td>\n",
       "      <td>2102.238281</td>\n",
       "      <td>1273.646851</td>\n",
       "      <td>3019.776855</td>\n",
       "      <td>13043.077148</td>\n",
       "      <td>3737.615234</td>\n",
       "      <td>16858.285156</td>\n",
       "      <td>20133</td>\n",
       "    </tr>\n",
       "    <tr>\n",
       "      <th>2307</th>\n",
       "      <td>2621</td>\n",
       "      <td>2738473415672342144</td>\n",
       "      <td>J235718.3+004350</td>\n",
       "      <td>2738473415672342144</td>\n",
       "      <td>1977.620605</td>\n",
       "      <td>904.937622</td>\n",
       "      <td>3259.827637</td>\n",
       "      <td>2939.993408</td>\n",
       "      <td>2385.917236</td>\n",
       "      <td>3454.502686</td>\n",
       "      <td>10033</td>\n",
       "    </tr>\n",
       "    <tr>\n",
       "      <th>2308</th>\n",
       "      <td>2624</td>\n",
       "      <td>2335101047989043200</td>\n",
       "      <td>J235939.7-250056</td>\n",
       "      <td>2335101047989043200</td>\n",
       "      <td>2239.543457</td>\n",
       "      <td>1393.408081</td>\n",
       "      <td>3020.735596</td>\n",
       "      <td>5175.990234</td>\n",
       "      <td>4410.054688</td>\n",
       "      <td>6247.561035</td>\n",
       "      <td>10033</td>\n",
       "    </tr>\n",
       "    <tr>\n",
       "      <th>2309</th>\n",
       "      <td>2625</td>\n",
       "      <td>2312679982969581184</td>\n",
       "      <td>J235942.1-345953</td>\n",
       "      <td>2312679982969581184</td>\n",
       "      <td>207.098572</td>\n",
       "      <td>206.249954</td>\n",
       "      <td>207.836655</td>\n",
       "      <td>207.056961</td>\n",
       "      <td>206.334579</td>\n",
       "      <td>207.688919</td>\n",
       "      <td>10033</td>\n",
       "    </tr>\n",
       "  </tbody>\n",
       "</table>\n",
       "<p>2310 rows × 11 columns</p>\n",
       "</div>"
      ],
      "text/plain": [
       "      td_gaia_1116_oid          GAIA_Source         csc__2cxo  \\\n",
       "0                    1  2848205298895660416  J000150.5+233015   \n",
       "1                    2  2860586826320959232  J001826.4+300400   \n",
       "2                    3   423793597149050752  J005240.0+562837   \n",
       "3                    4   313508874324686208  J010705.6+321056   \n",
       "4                    5  2579513759765160448  J011142.0+085149   \n",
       "...                ...                  ...               ...   \n",
       "2305              2618  2867212625125183488  J235456.4+292832   \n",
       "2306              2619  2449783654115281920  J235653.8-010731   \n",
       "2307              2621  2738473415672342144  J235718.3+004350   \n",
       "2308              2624  2335101047989043200  J235939.7-250056   \n",
       "2309              2625  2312679982969581184  J235942.1-345953   \n",
       "\n",
       "                source_id         rgeo       b_rgeo       B_rgeo  \\\n",
       "0     2848205298895660416   190.325455   189.537354   190.873550   \n",
       "1     2860586826320959232  1090.344238  1071.469482  1109.249023   \n",
       "2      423793597149050752   279.919128   278.484192   281.259705   \n",
       "3      313508874324686208   336.586426   324.778503   348.501251   \n",
       "4     2579513759765160448   663.244690   646.929932   677.217773   \n",
       "...                   ...          ...          ...          ...   \n",
       "2305  2867212625125183488   115.925903   113.431839   118.614845   \n",
       "2306  2449783654115281920  2102.238281  1273.646851  3019.776855   \n",
       "2307  2738473415672342144  1977.620605   904.937622  3259.827637   \n",
       "2308  2335101047989043200  2239.543457  1393.408081  3020.735596   \n",
       "2309  2312679982969581184   207.098572   206.249954   207.836655   \n",
       "\n",
       "      r_med_photogeo  r_lo_photogeo  r_hi_photogeo   flag  \n",
       "0         190.309402     189.739410     190.800888  10033  \n",
       "1        1081.566895    1064.833862    1099.735474  10033  \n",
       "2         280.002930     278.943024     281.291962  10033  \n",
       "3         337.011963     327.051025     349.826843  10033  \n",
       "4         661.934021     640.590393     680.602051  10033  \n",
       "...              ...            ...            ...    ...  \n",
       "2305      115.725143     113.246025     118.208130  10022  \n",
       "2306    13043.077148    3737.615234   16858.285156  20133  \n",
       "2307     2939.993408    2385.917236    3454.502686  10033  \n",
       "2308     5175.990234    4410.054688    6247.561035  10033  \n",
       "2309      207.056961     206.334579     207.688919  10033  \n",
       "\n",
       "[2310 rows x 11 columns]"
      ]
     },
     "execution_count": 121,
     "metadata": {},
     "output_type": "execute_result"
    }
   ],
   "source": [
    "TD_Gaiadist = Table.read(f'./data/{field_name}_Gaiadist.vot').to_pandas()\n",
    "\n",
    "TD_Gaiadist = TD_Gaiadist.rename(columns={'gaia_source':'GAIA_Source', 'r_med_geo':'rgeo','r_lo_geo':'b_rgeo','r_hi_geo':'B_rgeo'})\n",
    "\n",
    "TD_Gaiadist"
   ]
  },
  {
   "cell_type": "code",
   "execution_count": 122,
   "id": "35adde54",
   "metadata": {},
   "outputs": [
    {
     "data": {
      "text/html": [
       "<div>\n",
       "<style scoped>\n",
       "    .dataframe tbody tr th:only-of-type {\n",
       "        vertical-align: middle;\n",
       "    }\n",
       "\n",
       "    .dataframe tbody tr th {\n",
       "        vertical-align: top;\n",
       "    }\n",
       "\n",
       "    .dataframe thead th {\n",
       "        text-align: right;\n",
       "    }\n",
       "</style>\n",
       "<table border=\"1\" class=\"dataframe\">\n",
       "  <thead>\n",
       "    <tr style=\"text-align: right;\">\n",
       "      <th></th>\n",
       "      <th>td_gaia_1116_oid</th>\n",
       "      <th>GAIA_Source</th>\n",
       "      <th>csc__2cxo</th>\n",
       "      <th>source_id</th>\n",
       "      <th>rgeo</th>\n",
       "      <th>b_rgeo</th>\n",
       "      <th>B_rgeo</th>\n",
       "      <th>r_med_photogeo</th>\n",
       "      <th>r_lo_photogeo</th>\n",
       "      <th>r_hi_photogeo</th>\n",
       "      <th>flag</th>\n",
       "    </tr>\n",
       "  </thead>\n",
       "  <tbody>\n",
       "    <tr>\n",
       "      <th>1387</th>\n",
       "      <td>1582</td>\n",
       "      <td>5337418019842027648</td>\n",
       "      <td>J111507.2-611538</td>\n",
       "      <td>5337418019842027648</td>\n",
       "      <td>4736.921387</td>\n",
       "      <td>2453.73877</td>\n",
       "      <td>7126.81543</td>\n",
       "      <td>753.298096</td>\n",
       "      <td>641.85437</td>\n",
       "      <td>2204.371094</td>\n",
       "      <td>11033</td>\n",
       "    </tr>\n",
       "    <tr>\n",
       "      <th>1388</th>\n",
       "      <td>1583</td>\n",
       "      <td>5337418019842027648</td>\n",
       "      <td>J111507.4-611538</td>\n",
       "      <td>5337418019842027648</td>\n",
       "      <td>4736.921387</td>\n",
       "      <td>2453.73877</td>\n",
       "      <td>7126.81543</td>\n",
       "      <td>753.298096</td>\n",
       "      <td>641.85437</td>\n",
       "      <td>2204.371094</td>\n",
       "      <td>11033</td>\n",
       "    </tr>\n",
       "  </tbody>\n",
       "</table>\n",
       "</div>"
      ],
      "text/plain": [
       "      td_gaia_1116_oid          GAIA_Source         csc__2cxo  \\\n",
       "1387              1582  5337418019842027648  J111507.2-611538   \n",
       "1388              1583  5337418019842027648  J111507.4-611538   \n",
       "\n",
       "                source_id         rgeo      b_rgeo      B_rgeo  \\\n",
       "1387  5337418019842027648  4736.921387  2453.73877  7126.81543   \n",
       "1388  5337418019842027648  4736.921387  2453.73877  7126.81543   \n",
       "\n",
       "      r_med_photogeo  r_lo_photogeo  r_hi_photogeo   flag  \n",
       "1387      753.298096      641.85437    2204.371094  11033  \n",
       "1388      753.298096      641.85437    2204.371094  11033  "
      ]
     },
     "execution_count": 122,
     "metadata": {},
     "output_type": "execute_result"
    }
   ],
   "source": [
    "TD_Gaiadist[TD_Gaiadist['GAIA_Source']==5337418019842027648]"
   ]
  },
  {
   "cell_type": "code",
   "execution_count": 123,
   "id": "b3e7689e",
   "metadata": {},
   "outputs": [
    {
     "name": "stdout",
     "output_type": "stream",
     "text": [
      "3531 2310\n",
      "3533\n",
      "3529\n"
     ]
    }
   ],
   "source": [
    "print(len(df_comb), len(TD_Gaiadist))\n",
    "df_comb = pd.merge(df_comb, TD_Gaiadist[['GAIA_Source','rgeo','b_rgeo','B_rgeo']], on='GAIA_Source', how='outer')\n",
    "print(len(df_comb))\n",
    "df_comb = df_comb[~df_comb.duplicated(subset=['name'],keep=False)].reset_index(drop=True)\n",
    "print(len(df_comb))"
   ]
  },
  {
   "cell_type": "code",
   "execution_count": 124,
   "id": "8e3ad56a",
   "metadata": {},
   "outputs": [
    {
     "name": "stdout",
     "output_type": "stream",
     "text": [
      "3529\n",
      "Empty DataFrame\n",
      "Columns: [name, Class]\n",
      "Index: []\n"
     ]
    }
   ],
   "source": [
    "print(len(df_comb['name'].unique()))\n",
    "print(df_comb.loc[df_comb.duplicated(subset=['name'],keep=False), ['name','Class']])\n"
   ]
  },
  {
   "cell_type": "code",
   "execution_count": 125,
   "id": "2a3fb89c",
   "metadata": {},
   "outputs": [
    {
     "data": {
      "text/plain": [
       "count     2308.000000\n",
       "mean      2419.191895\n",
       "std       2967.382568\n",
       "min         31.408976\n",
       "25%        398.655060\n",
       "50%       1419.086548\n",
       "75%       3416.477295\n",
       "max      38760.664062\n",
       "Name: rgeo, dtype: float64"
      ]
     },
     "execution_count": 125,
     "metadata": {},
     "output_type": "execute_result"
    }
   ],
   "source": [
    "df_comb['rgeo'].describe()"
   ]
  },
  {
   "cell_type": "code",
   "execution_count": 126,
   "id": "3f4a02ba",
   "metadata": {},
   "outputs": [
    {
     "data": {
      "text/plain": [
       "3529"
      ]
     },
     "execution_count": 126,
     "metadata": {},
     "output_type": "execute_result"
    }
   ],
   "source": [
    "len(df_comb['p_any'])"
   ]
  },
  {
   "cell_type": "code",
   "execution_count": 127,
   "id": "78db0ad5",
   "metadata": {},
   "outputs": [
    {
     "data": {
      "text/html": [
       "<div>\n",
       "<style scoped>\n",
       "    .dataframe tbody tr th:only-of-type {\n",
       "        vertical-align: middle;\n",
       "    }\n",
       "\n",
       "    .dataframe tbody tr th {\n",
       "        vertical-align: top;\n",
       "    }\n",
       "\n",
       "    .dataframe thead th {\n",
       "        text-align: right;\n",
       "    }\n",
       "</style>\n",
       "<table border=\"1\" class=\"dataframe\">\n",
       "  <thead>\n",
       "    <tr style=\"text-align: right;\">\n",
       "      <th></th>\n",
       "      <th>var_inter_prob_b</th>\n",
       "      <th>var_inter_prob</th>\n",
       "    </tr>\n",
       "  </thead>\n",
       "  <tbody>\n",
       "    <tr>\n",
       "      <th>0</th>\n",
       "      <td>NaN</td>\n",
       "      <td>NaN</td>\n",
       "    </tr>\n",
       "    <tr>\n",
       "      <th>1</th>\n",
       "      <td>NaN</td>\n",
       "      <td>NaN</td>\n",
       "    </tr>\n",
       "    <tr>\n",
       "      <th>2</th>\n",
       "      <td>NaN</td>\n",
       "      <td>NaN</td>\n",
       "    </tr>\n",
       "    <tr>\n",
       "      <th>3</th>\n",
       "      <td>1.0</td>\n",
       "      <td>NaN</td>\n",
       "    </tr>\n",
       "    <tr>\n",
       "      <th>4</th>\n",
       "      <td>1.0</td>\n",
       "      <td>1.0</td>\n",
       "    </tr>\n",
       "    <tr>\n",
       "      <th>...</th>\n",
       "      <td>...</td>\n",
       "      <td>...</td>\n",
       "    </tr>\n",
       "    <tr>\n",
       "      <th>3524</th>\n",
       "      <td>NaN</td>\n",
       "      <td>NaN</td>\n",
       "    </tr>\n",
       "    <tr>\n",
       "      <th>3525</th>\n",
       "      <td>NaN</td>\n",
       "      <td>NaN</td>\n",
       "    </tr>\n",
       "    <tr>\n",
       "      <th>3526</th>\n",
       "      <td>NaN</td>\n",
       "      <td>NaN</td>\n",
       "    </tr>\n",
       "    <tr>\n",
       "      <th>3527</th>\n",
       "      <td>NaN</td>\n",
       "      <td>NaN</td>\n",
       "    </tr>\n",
       "    <tr>\n",
       "      <th>3528</th>\n",
       "      <td>NaN</td>\n",
       "      <td>NaN</td>\n",
       "    </tr>\n",
       "  </tbody>\n",
       "</table>\n",
       "<p>3529 rows × 2 columns</p>\n",
       "</div>"
      ],
      "text/plain": [
       "      var_inter_prob_b  var_inter_prob\n",
       "0                  NaN             NaN\n",
       "1                  NaN             NaN\n",
       "2                  NaN             NaN\n",
       "3                  1.0             NaN\n",
       "4                  1.0             1.0\n",
       "...                ...             ...\n",
       "3524               NaN             NaN\n",
       "3525               NaN             NaN\n",
       "3526               NaN             NaN\n",
       "3527               NaN             NaN\n",
       "3528               NaN             NaN\n",
       "\n",
       "[3529 rows x 2 columns]"
      ]
     },
     "execution_count": 127,
     "metadata": {},
     "output_type": "execute_result"
    }
   ],
   "source": [
    "df_comb[['var_inter_prob_b','var_inter_prob']]"
   ]
  },
  {
   "cell_type": "code",
   "execution_count": 128,
   "id": "ee6d22e0",
   "metadata": {},
   "outputs": [
    {
     "data": {
      "text/plain": [
       "Index(['ALLWISE_RA', 'ALLWISE_DEC', 'ALLWISE_err0', 'ALLWISE_err1',\n",
       "       'ALLWISE_errPA', 'ALLWISE_AllWISE', 'ALLWISE__r', 'ALLWISE_W1mag',\n",
       "       'ALLWISE_W2mag', 'ALLWISE_W3mag', 'ALLWISE_W4mag', 'ALLWISE_e_W1mag',\n",
       "       'ALLWISE_e_W2mag', 'ALLWISE_e_W3mag', 'ALLWISE_e_W4mag', 'CATWISE_RA',\n",
       "       'CATWISE_DEC', 'CATWISE_PU', 'CATWISE_Name', 'CATWISE__r',\n",
       "       'CATWISE_W1mproPM', 'CATWISE_W2mproPM', 'CATWISE_e_W1mproPM',\n",
       "       'CATWISE_e_W2mproPM', 'Separation_GAIA_CSC', 'Separation_GAIA_CSC_ra',\n",
       "       'Separation_GAIA_CSC_dec', 'Separation_TMASS_CSC',\n",
       "       'Separation_TMASS_CSC_ra', 'Separation_TMASS_CSC_dec',\n",
       "       'Separation_TMASS_GAIA', 'Separation_TMASS_GAIA_ra',\n",
       "       'Separation_TMASS_GAIA_dec', 'Separation_ALLWISE_CSC',\n",
       "       'Separation_ALLWISE_CSC_ra', 'Separation_ALLWISE_CSC_dec',\n",
       "       'Separation_ALLWISE_GAIA', 'Separation_ALLWISE_GAIA_ra',\n",
       "       'Separation_ALLWISE_GAIA_dec', 'Separation_ALLWISE_TMASS'],\n",
       "      dtype='object')"
      ]
     },
     "execution_count": 128,
     "metadata": {},
     "output_type": "execute_result"
    }
   ],
   "source": [
    "df_comb.columns[100:140]"
   ]
  },
  {
   "cell_type": "code",
   "execution_count": 129,
   "id": "6f73ef7c",
   "metadata": {},
   "outputs": [
    {
     "name": "stdout",
     "output_type": "stream",
     "text": [
      "Gmag\n",
      "BPmag\n",
      "RPmag\n",
      "Jmag\n",
      "Hmag\n",
      "Kmag\n",
      "W1mag\n",
      "W2mag\n",
      "W3mag\n",
      "W4mag\n",
      "W1mproPM\n",
      "W2mproPM\n"
     ]
    }
   ],
   "source": [
    "catalogs = {'GAIA': ['Gmag','BPmag','RPmag'], \n",
    "            'TMASS': ['Jmag','Hmag','Kmag' ],\n",
    "            'ALLWISE': ['W1mag','W2mag','W3mag','W4mag'],\n",
    "            'CATWISE':['W1mproPM','W2mproPM']}\n",
    "for cat in catalogs:\n",
    "    for col in catalogs[cat]:\n",
    "        print(col)\n",
    "        df_comb = df_comb.rename(columns={cat+'_'+col:col, cat+'_e_'+col:'e_'+col})"
   ]
  },
  {
   "cell_type": "code",
   "execution_count": 130,
   "id": "a8f61e04",
   "metadata": {},
   "outputs": [
    {
     "data": {
      "text/plain": [
       "0       10.510\n",
       "1      -99.000\n",
       "2      -99.000\n",
       "3      -99.000\n",
       "4      -99.000\n",
       "         ...  \n",
       "3524    16.198\n",
       "3525    14.292\n",
       "3526    12.631\n",
       "3527    15.243\n",
       "3528     6.769\n",
       "Name: W1mag, Length: 3529, dtype: float64"
      ]
     },
     "execution_count": 130,
     "metadata": {},
     "output_type": "execute_result"
    }
   ],
   "source": [
    "df_comb['W1mag']"
   ]
  },
  {
   "cell_type": "code",
   "execution_count": 131,
   "id": "5f4ca0bd",
   "metadata": {},
   "outputs": [
    {
     "data": {
      "text/plain": [
       "Index(['name', 'usrid', 'ra_pnt', 'dec_pnt', 'ra', 'dec', 'err_ellipse_r0',\n",
       "       'err_ellipse_r1', 'err_ellipse_ang', 'significance', 'extent_flag',\n",
       "       'pileup_flag', 'sat_src_flag', 'streak_src_flag', 'conf_flag',\n",
       "       'flux_aper90_mean_b', 'e_flux_aper90_mean_b', 'flux_aper90_mean_h',\n",
       "       'e_flux_aper90_mean_h', 'flux_aper90_mean_m', 'e_flux_aper90_mean_m',\n",
       "       'flux_aper90_mean_s', 'e_flux_aper90_mean_s', 'kp_intra_prob_b',\n",
       "       'ks_intra_prob_b', 'var_inter_prob_b', 'nh_gal', 'flux_powlaw_mean',\n",
       "       'e_flux_powlaw_mean', 'powlaw_gamma_mean', 'e_powlaw_gamma_mean',\n",
       "       'powlaw_nh_mean', 'e_powlaw_nh_mean', 'powlaw_ampl_mean',\n",
       "       'e_powlaw_ampl_mean', 'powlaw_stat', 'remove_code',\n",
       "       'flux_significance_b_max', 'flux_aper90_ave_s', 'e_flux_aper90_ave_s',\n",
       "       'flux_aper90_ave_m', 'e_flux_aper90_ave_m', 'flux_aper90_ave_h',\n",
       "       'e_flux_aper90_ave_h', 'chisqr', 'dof', 'kp_prob_b_max',\n",
       "       'var_inter_prob', 'significance_max', 'flux_flag'],\n",
       "      dtype='object')"
      ]
     },
     "execution_count": 131,
     "metadata": {},
     "output_type": "execute_result"
    }
   ],
   "source": [
    "df_comb.columns[:50]"
   ]
  },
  {
   "cell_type": "code",
   "execution_count": 132,
   "id": "6fad376a",
   "metadata": {},
   "outputs": [
    {
     "name": "stdout",
     "output_type": "stream",
     "text": [
      "[('AGN', 166), ('CV', 9), ('HM-STAR', 8), ('HMXB', 7), ('LM-STAR', 18), ('LMXB', 3), ('NS', 2), ('NS_BIN', 5), ('YSO', 65)] use  W1  from CATWISE rather than ALLWISE.\n",
      "[('AGN', 166), ('CV', 9), ('HM-STAR', 8), ('HMXB', 7), ('LM-STAR', 18), ('LMXB', 3), ('NS', 2), ('NS_BIN', 5), ('YSO', 65)] use  W2  from CATWISE rather than ALLWISE.\n"
     ]
    }
   ],
   "source": [
    "exnum = -99.\n",
    "for w in ['W1', 'W2']:\n",
    "    df_comb[w+'mag_comb'] = df_comb[w+'mag']\n",
    "    df_comb['e_'+w+'mag_comb'] = df_comb['e_'+w+'mag']\n",
    "    s= np.where((df_comb[w+'mag_comb']==exnum) & (df_comb[w+'mproPM']!=exnum))[0]\n",
    "    print(sorted(Counter(df_comb.loc[s,'Class']).items()), 'use ',w,' from CATWISE rather than ALLWISE.')\n",
    "    df_comb.loc[s, w+'mag_comb'] = df_comb.loc[s, w+'mproPM']\n",
    "    df_comb.loc[s, 'e_'+w+'mag_comb'] = df_comb.loc[s, 'e_'+w+'mproPM']\n"
   ]
  },
  {
   "cell_type": "code",
   "execution_count": 133,
   "id": "32848ffe",
   "metadata": {},
   "outputs": [],
   "source": [
    "# df_comb.loc[df_comb['p_any']==0., ['GAIA_Source','TMASS__2MASS','ALLWISE_AllWISE','CATWISE_Name']]\n",
    "\n",
    "#df_comb['rgeo'] = 1000\n",
    "df_comb = df_comb.replace({-99.:np.nan})\n",
    "df_comb = df_comb.replace({1e20:np.nan})\n",
    "df_comb['Class'] = df_comb['Class'].replace({'NS_BIN':'LMXB'})\n",
    "\n"
   ]
  },
  {
   "cell_type": "code",
   "execution_count": 134,
   "id": "3be099d3",
   "metadata": {},
   "outputs": [
    {
     "name": "stdout",
     "output_type": "stream",
     "text": [
      "3529\n",
      "3174 \n",
      " AGN        1403\n",
      "YSO         750\n",
      "LM-STAR     644\n",
      "HM-STAR     127\n",
      "NS           99\n",
      "LMXB         66\n",
      "CV           51\n",
      "HMXB         34\n",
      "Name: Class, dtype: int64\n"
     ]
    }
   ],
   "source": [
    "print(len(df_comb))\n",
    "df_comb_sel = df_comb[(df_comb['name'].isin(rare_sources_saving_dict)) | (df_comb['remove_regions'].isnull())].reset_index(drop=True)\n",
    "print(len(df_comb_sel),'\\n',df_comb_sel['Class'].value_counts())\n",
    "\n",
    "df_comb_sel.to_csv(f'./data/{field_name}_MW_comb.csv',index=False)"
   ]
  },
  {
   "cell_type": "code",
   "execution_count": 135,
   "id": "610ac85e",
   "metadata": {},
   "outputs": [
    {
     "name": "stdout",
     "output_type": "stream",
     "text": [
      "89 \n",
      " CV      54\n",
      "LMXB    24\n",
      "NS       8\n",
      "HMXB     3\n",
      "Name: Class, dtype: int64\n"
     ]
    }
   ],
   "source": [
    "raretype_GB = df_comb[(df_comb['rare-type']==1) & (df_comb['remove_regions']=='|GalacticCenter')].reset_index(drop=True)\n",
    "print(len(raretype_GB),'\\n',raretype_GB['Class'].value_counts())\n",
    "\n",
    "raretype_GB.to_csv(f'./data/{field_name}_raretype_GB.csv',index=False)"
   ]
  },
  {
   "cell_type": "code",
   "execution_count": 138,
   "id": "77f4810f",
   "metadata": {},
   "outputs": [],
   "source": [
    "XCLASS_remove = {\n",
    "    # LM-STAR to the up right of MS, confused with YSO\n",
    "    \"2CXO J013632.0+154507\",\"2CXO J022635.3+621937\",\"2CXO J043019.1+351745\",\"2CXO J053515.7-052424\",\"2CXO J053517.8-052430\",\n",
    "    \"2CXO J053524.9-052401\",\"2CXO J053525.3-052345\",\"2CXO J053525.4-052333\",\"2CXO J074108.5+202544\",\"2CXO J122745.2+130012\",\n",
    "    \"2CXO J131218.4-623730\",\"2CXO J162812.2-245044\",\"2CXO J184632.0-025724\",\"2CXO J200509.2+322201\",\"2CXO J203323.0+411222\",\n",
    "    \"2CXO J203342.9+413000\",\"2CXO J205821.5+435344\",\"2CXO J231340.7+612828\",\n",
    "    # LM-STAR to the up left of MS, confused with HM-STAR\n",
    "    \"2CXO J055202.2+323043\",\"2CXO J055222.1+323843\",\"2CXO J110435.9-584520\",\"2CXO J205448.6-582715\",\n",
    "    # HM-STAR to the up right of MS, confused with YSO\n",
    "    \"2CXO J055202.2+323043\",\"2CXO J055222.1+323843\",\"2CXO J061254.9+175920\",\"2CXO J104517.2-594701\",\"2CXO J104530.2-594820\",\n",
    "    \"2CXO J110435.9-584520\",\"2CXO J205448.6-582715\",\"2CXO J231331.8+612747\",\n",
    "    # YSO\n",
    "    \"2CXO J053528.6-044816\",\n",
    "    }\n",
    "\n",
    "\n"
   ]
  },
  {
   "cell_type": "code",
   "execution_count": 140,
   "id": "10a581f7",
   "metadata": {},
   "outputs": [
    {
     "name": "stdout",
     "output_type": "stream",
     "text": [
      "3147\n",
      "3147\n",
      "AGN        1403\n",
      "YSO         749\n",
      "LM-STAR     622\n",
      "HM-STAR     123\n",
      "NS           99\n",
      "LMXB         66\n",
      "CV           51\n",
      "HMXB         34\n",
      "Name: Class, dtype: int64\n"
     ]
    }
   ],
   "source": [
    "print(len(df_comb_sel))\n",
    "df_comb_sel = df_comb_sel[~df_comb_sel['name'].isin(XCLASS_remove)].reset_index(drop=True)\n",
    "print(len(df_comb_sel))\n",
    "print(df_comb_sel['Class'].value_counts())\n",
    "\n",
    "df_comb_sel.to_csv(f'./data/{field_name}_MW_comb.csv',index=False)"
   ]
  },
  {
   "cell_type": "code",
   "execution_count": 136,
   "id": "1532c3e8",
   "metadata": {},
   "outputs": [
    {
     "data": {
      "text/plain": [
       "21.852835"
      ]
     },
     "execution_count": 136,
     "metadata": {},
     "output_type": "execute_result"
    }
   ],
   "source": [
    "df_comb['Gmag'].max()"
   ]
  },
  {
   "cell_type": "code",
   "execution_count": null,
   "id": "c761f528",
   "metadata": {},
   "outputs": [],
   "source": []
  }
 ],
 "metadata": {
  "kernelspec": {
   "display_name": "Python 3 (ipykernel)",
   "language": "python",
   "name": "python3"
  },
  "language_info": {
   "codemirror_mode": {
    "name": "ipython",
    "version": 3
   },
   "file_extension": ".py",
   "mimetype": "text/x-python",
   "name": "python",
   "nbconvert_exporter": "python",
   "pygments_lexer": "ipython3",
   "version": "3.9.13"
  }
 },
 "nbformat": 4,
 "nbformat_minor": 5
}
