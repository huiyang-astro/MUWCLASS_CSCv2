{
 "cells": [
  {
   "cell_type": "markdown",
   "id": "c2c25ad8",
   "metadata": {},
   "source": [
    "# MUWCLASS Pipeline on CSCv2 Demonstration\n",
    "## see our paper at https://arxiv.org/abs/2206.13656\n",
    "\n",
    "### Hui Yang1, Jeremy Hare2, Oleg Kargaltsev1, Igor Volkov1\n",
    "### 1 The George Washington University 2 NASA GSFC\n",
    "\n",
    "### Contact huiyang@gwu.edu if you have any questions\n",
    "\n",
    "This notebook presents a demonstration of classifying Chandra Source Catalog v2 (CSCv2) using the MUltiWavelength Machine Learning CLASSification Pipeline with CSCv2 and multiwavelength data\n",
    "\n",
    "This notebook is available at https://github.com/huiyang-astro/MUWCLASS_CSCv2\n",
    "\n",
    "\n",
    "* This notebook was run in CIAO 4.14 with Python 3.9 \n",
    "* run the follow code to create a new conda environment ciao-4.14-muwclass; if you already have ciao-4.14 installed with Python 3.9, you can use your own conda environment with additional Python packages installed from below\n",
    "* conda create -n ciao-4.14-muwclass -c https://cxc.cfa.harvard.edu/conda/ciao -c conda-forge ciao sherpa ds9 ciao-contrib caldb_main marx python=3.9\n",
    "\n",
    "\n",
    "* run 'bash install-packages.sh' under ciao-4.14-muwclass environment to install all required packages \n",
    "\n",
    "* then, make sure to enable widgetsnbextension and ipyaladin, run\n",
    "* jupyter nbextension enable --py widgetsnbextension\n",
    "* jupyter nbextension enable --py --sys-prefix ipyaladin on your terminal\n",
    "\n",
    "* You might also need to manually register the existing ds9 with the xapns name server by selecting the ds9 File->XPA->Connect menu option so your ds9 will be fully accessible to pyds9.\n"
   ]
  },
  {
   "cell_type": "markdown",
   "id": "e8064a50",
   "metadata": {},
   "source": [
    "## Related Posters:\n",
    "\n",
    "Machine Learning Classification of Variable Galactic X-ray Sources from Chandra Source Catalog\n",
    "* https://submissions.mirasmart.com/HEAD19/itinerary/PresentationDetail.aspx?evdid=77\n",
    "\n",
    "X-ray Source Populations in NGC 3532 and Other Intermediate Age Star Clusters\n",
    "* https://submissions.mirasmart.com/HEAD19/itinerary/PresentationDetail.aspx?evdid=113"
   ]
  },
  {
   "cell_type": "code",
   "execution_count": 2,
   "id": "31a5c7df",
   "metadata": {
    "scrolled": true
   },
   "outputs": [
    {
     "data": {},
     "metadata": {},
     "output_type": "display_data"
    },
    {
     "data": {},
     "metadata": {},
     "output_type": "display_data"
    },
    {
     "data": {
      "text/html": []
     },
     "metadata": {},
     "output_type": "display_data"
    },
    {
     "data": {},
     "metadata": {},
     "output_type": "display_data"
    },
    {
     "data": {},
     "metadata": {},
     "output_type": "display_data"
    },
    {
     "data": {},
     "metadata": {},
     "output_type": "display_data"
    }
   ],
   "source": [
    "import numpy as np\n",
    "import pandas as pd\n",
    "\n",
    "import astropy\n",
    "from astropy import units as u\n",
    "from astropy.coordinates import SkyCoord, Angle\n",
    "import astroquery\n",
    "from astropy.table import QTable, Table\n",
    "from astropy.io import fits\n",
    "import pyvo as vo\n",
    "\n",
    "\n",
    "import time\n",
    "from pathlib import Path\n",
    "import multiprocessing as mp\n",
    "\n",
    "import matplotlib\n",
    "import matplotlib.pyplot as plt\n",
    "from IPython.display import Image, display\n",
    "import seaborn as sns\n",
    "# import ipyaladin.aladin_widget as ipyal\n",
    "import holoviews as hv\n",
    "from bokeh.io import show\n",
    "from bokeh.layouts import layout\n",
    "import sklearn \n",
    "\n",
    "import sys  \n",
    "sys.path.insert(0, '../')\n",
    "\n",
    "from test_library     import  plot_confusion_matrix, plot_Feature_Importance_withSTD, class_train_model_and_classify\n",
    "from muwclass_library import class_prepare, class_train_and_classify, class_save_res, col_rename, confident_flag, confident_sigma, find_confident, plot_classifier_matrix_withSTD, prepare_cols,class_prepare_oversample\n",
    "from other_libaray import prepare_field, dict_update, combine_class_result, plot_bbsed, plot_class_matrix, prepare_evts_plot_xray_class, interactive_Ximg_class, CMweight_probability\n",
    "from prepare_library import CSCview_conesearch, get_rms_res\n",
    "\n",
    "\n",
    "plt.rcParams.update({'font.size': 25})\n",
    "params = {'legend.fontsize': 'large',\n",
    "          #'figure.figsize': (15, 5),\n",
    "         'axes.labelsize': 'large',\n",
    "         'axes.titlesize':'large',\n",
    "         'xtick.labelsize':'large',\n",
    "         'ytick.labelsize':'large'}\n",
    "plt.rcParams.update(params)\n",
    "\n",
    "\n",
    "%matplotlib inline\n",
    "\n",
    "import warnings\n",
    "warnings.filterwarnings('ignore')\n",
    "\n",
    "%load_ext autoreload\n",
    "%autoreload 2"
   ]
  },
  {
   "cell_type": "markdown",
   "id": "ab616c71",
   "metadata": {},
   "source": [
    "Some optional plots require the Chandra Interactive Analysis of Observations (CIAO) environment. If you want to use these features, set 'ciao' to True."
   ]
  },
  {
   "cell_type": "code",
   "execution_count": 2,
   "id": "27be7d03",
   "metadata": {},
   "outputs": [],
   "source": [
    "ciao = False\n",
    "if ciao:\n",
    "    import pyds9 as ds9"
   ]
  },
  {
   "cell_type": "code",
   "execution_count": 3,
   "id": "15359103",
   "metadata": {},
   "outputs": [
    {
     "data": {
      "text/html": [
       "<style>.container { width:80% !important; }</style>"
      ],
      "text/plain": [
       "<IPython.core.display.HTML object>"
      ]
     },
     "metadata": {},
     "output_type": "display_data"
    },
    {
     "name": "stdout",
     "output_type": "stream",
     "text": [
      "Versions:\n",
      "  NumPy       - 1.21.5\n",
      "  Matplotlib  - 3.5.1\n",
      "  AstroPy     - 5.1\n",
      "  PyDS9       - 1.3\n",
      "  Astroquery  - 0.4.6\n",
      "  Seaborn     - 0.11.2\n",
      "  Holoviews     - 1.14.8\n",
      "  sklearn       - 1.1.1\n"
     ]
    }
   ],
   "source": [
    "from IPython.core.display import display, HTML\n",
    "display(HTML(\"<style>.container { width:80% !important; }</style>\"))\n",
    "print(\"Versions:\")\n",
    "print(f\"  NumPy       - {np.__version__}\")\n",
    "print(f\"  Matplotlib  - {matplotlib.__version__}\")\n",
    "print(f\"  AstroPy     - {astropy.__version__}\")\n",
    "print(f\"  PyDS9       - {vo.__version__}\")\n",
    "print(f\"  Astroquery  - {astroquery.__version__}\")\n",
    "print(f\"  Seaborn     - {sns.__version__}\")\n",
    "print(f\"  Holoviews     - {hv.__version__}\")\n",
    "print(f\"  sklearn       - {sklearn.__version__}\")"
   ]
  },
  {
   "cell_type": "markdown",
   "id": "0967fd39",
   "metadata": {},
   "source": [
    "### workflow chart and the training dataset source breakdown of the MUWCLASS pipeline"
   ]
  },
  {
   "cell_type": "code",
   "execution_count": 4,
   "id": "71e487d5",
   "metadata": {},
   "outputs": [
    {
     "data": {},
     "metadata": {
      "image/png": {
       "width": 600
      }
     },
     "output_type": "display_data"
    }
   ],
   "source": [
    "display(Image(filename='../../files/figs/flowchart_TD_breakdown.png',width = 600))"
   ]
  },
  {
   "cell_type": "markdown",
   "id": "c3241081",
   "metadata": {},
   "source": [
    "The pipeline is configured to download and classify sources from the Chandra Source Catalog. \n",
    "\n",
    "If you want to classify sources not currently in the CSC, or if otherwise you want to use source properties from your own CXO analysis (or our CXO pipeline), set using_CXO = 'CXO'. Note that column names must be consistent with the format output by the CXO pipeline."
   ]
  },
  {
   "cell_type": "code",
   "execution_count": 4,
   "id": "2160fa10",
   "metadata": {},
   "outputs": [],
   "source": [
    "CSC_or_CXO = 'CXO'"
   ]
  },
  {
   "cell_type": "markdown",
   "id": "15f9e62a",
   "metadata": {},
   "source": [
    "## Using Sources from Chandra Source Catalog"
   ]
  },
  {
   "cell_type": "markdown",
   "id": "b0e7d339",
   "metadata": {},
   "source": [
    "#### Define a circular region of interest with detections available from CSCv2 (ACIS chips only)\n",
    "\n",
    "* field_name\n",
    "* RA, DEC, radius: RA (right ascension) and Dec (declination) coordinates and radius (in arcmin) of the field"
   ]
  },
  {
   "cell_type": "code",
   "execution_count": 5,
   "id": "3db25e82",
   "metadata": {},
   "outputs": [],
   "source": [
    "# dictionary of cluster name and CSCview cone search parameters. Radius is in degrees\n",
    "clusters_dict = {'NGC3532': {'ra': 166.28875, 'dec': -58.85, 'radius': 0.2, 'create_perobs': False},\n",
    "'NGC3532_20': {'ra': 166.28875, 'dec': -58.85, 'radius': 0.2, 'create_perobs': False},\n",
    "'Trumpler18': {'ra': 167.9712649, 'dec': -60.6184559, 'radius': 0.2},\n",
    "'IC2395': {'ra': 130.6191230, 'dec': -48.1137862, 'radius': 0.2, 'create_perobs': True},\n",
    "'IC2395_CXO': {'ra': 130.6191230, 'dec': -48.1137862, 'radius': 0.2, 'create_perobs': True},\n",
    "'IC2395_CXO_noconversion': {'ra': 130.6191230, 'dec': -48.1137862, 'radius': 0.2, 'create_perobs': True},\n",
    "'NGC2169': {'ra': 92.1011374, 'dec': 13.9711171, 'radius': 0.2, 'create_perobs': True},\n",
    "'NGC2169_CXO': {'ra': 92.1011374, 'dec': 13.9711171, 'radius': 0.2, 'create_perobs': True},\n",
    "}\n",
    "\n",
    "# select cluster\n",
    "field_name = 'IC2395_CXO_noconversion'\n",
    "RA = clusters_dict[field_name]['ra']\n",
    "DEC = clusters_dict[field_name]['dec']\n",
    "radius = (clusters_dict[field_name]['radius']*u.deg).to(u.arcmin).value\n",
    "create_perobs = clusters_dict[field_name]['create_perobs']\n",
    "\n",
    "\n",
    "# creating the directories for saving the data and results \n",
    "\n",
    "data_dir = f'./data/{field_name}' # data directory to save the file\n",
    "\n",
    "dir_out = f'./{field_name}_results' # classification results directory\n",
    "dir_plot = dir_out+'/plot' # plots directory\n",
    "Path(dir_out).mkdir(parents=True, exist_ok=True)\n",
    "Path(dir_plot).mkdir(parents=True, exist_ok=True)\n"
   ]
  },
  {
   "cell_type": "markdown",
   "id": "d7183f1d",
   "metadata": {},
   "source": [
    "#### Cone search -- new version using CSCview_conesearch function\n",
    "\n",
    "* search_engine: The database can be accessed using either curl or wget tool. You may run into some bugs when downloading data using curl, then wget is suggested to use. \n",
    "* csc_version: curl can access to different Chandra Source Catalog version, including 2.0 and current version (which includes more data and keeps updating on a daily basis). wget can only access to 2.0 version so the csc_version parameter does not apply to wget \n"
   ]
  },
  {
   "cell_type": "code",
   "execution_count": 127,
   "id": "3b311176",
   "metadata": {},
   "outputs": [],
   "source": [
    "if CSC_or_CXO == 'CSC':\n",
    "    search_engine = 'wget'#'curl'\n",
    "\n",
    "    # installing wget is required to run with the 'wget' option\n",
    "\n",
    "    csc_version = '2.0' #'current' # '2.0'\n",
    "\n",
    "    df_res = CSCview_conesearch(field_name, RA, DEC, radius,'./data/query',engine=search_engine,csc_version=csc_version)\n",
    "\n",
    "    #df_res['ra'] = Angle(df_res['ra'], 'hourangle').degree\n",
    "    #df_res['dec'] = Angle(df_res['dec'], 'deg').degree\n",
    "    df_res['usrid'] = np.nan\n",
    "    for i, name in enumerate(df_res['name'].unique()):\n",
    "        df_res.loc[df_res['name']==name, 'usrid'] = i+1\n",
    "        \n",
    "\n",
    "    # you can filter on the properties of X-ray sources, i.e., X-ray significance if you uncomment the following line\n",
    "\n",
    "# you can filter on the properties of X-ray sources, i.e., X-ray significance if you uncomment the following line\n",
    "\n",
    "# df_res = df_res[df_res.significance>=3.].reset_index()"
   ]
  },
  {
   "cell_type": "markdown",
   "id": "fe83c33c",
   "metadata": {},
   "source": [
    "#### Cone search -- old version since it can not access to CSC Current Database\n",
    "\n",
    "* query with the PyVo package \n",
    "* only significant X-ray sources (significance>=3) are selected for classification, which can be changed to your own purposes"
   ]
  },
  {
   "cell_type": "code",
   "execution_count": 8,
   "id": "6100e242",
   "metadata": {},
   "outputs": [
    {
     "data": {
      "text/plain": [
       "'\\ncone = vo.dal.SCSService(\\'http://cda.cfa.harvard.edu/csc2scs/coneSearch\\')\\nfield = SkyCoord(RA, DEC, unit=\"deg\") \\nmaxrad = radius * u.arcmin\\nresults = cone.search(pos=field, radius=maxrad, verbosity=2)\\ndf_res = results.to_table().to_pandas()\\ndf_sig = df_res[df_res.significance>=3.].reset_index()\\nprint(len(df_sig),\\'sources left with S/N >=3 from\\',len(df_res), \\'sources\\')\\n'"
      ]
     },
     "execution_count": 8,
     "metadata": {},
     "output_type": "execute_result"
    }
   ],
   "source": [
    "'''\n",
    "cone = vo.dal.SCSService('http://cda.cfa.harvard.edu/csc2scs/coneSearch')\n",
    "field = SkyCoord(RA, DEC, unit=\"deg\") \n",
    "maxrad = radius * u.arcmin\n",
    "results = cone.search(pos=field, radius=maxrad, verbosity=2)\n",
    "df_res = results.to_table().to_pandas()\n",
    "df_sig = df_res[df_res.significance>=3.].reset_index()\n",
    "print(len(df_sig),'sources left with S/N >=3 from',len(df_res), 'sources')\n",
    "'''"
   ]
  },
  {
   "cell_type": "markdown",
   "id": "5c2cbfba",
   "metadata": {},
   "source": [
    "* prepare_field function extracts per-observation CSC data, calculates average X-ray fluxes and hardness ratio, X-ray variability from multiple X-ray detections, and applies cross-matching with multiwavelength catalogs (GAIA, 2MASS, WISE)\n"
   ]
  },
  {
   "cell_type": "code",
   "execution_count": 129,
   "id": "e3fe5ccc",
   "metadata": {},
   "outputs": [
    {
     "name": "stdout",
     "output_type": "stream",
     "text": [
      "There are 389 per-obs data.\n",
      "Run nan_flux......\n",
      "I/355/gaiadr3\n",
      "cross-matching to gaia\n",
      "II/246/out\n",
      "cross-matching to 2mass\n",
      "II/365/catwise\n",
      "cross-matching to catwise\n",
      "II/363/unwise\n",
      "cross-matching to unwise\n",
      "II/328/allwise\n",
      "cross-matching to allwise\n",
      "307 counterparts matched for gaia\n",
      "241 counterparts matched for 2mass\n",
      "173 counterparts matched for catwise\n",
      "195 counterparts matched for unwise\n",
      "116 counterparts matched for allwise\n",
      "Launched query: 'SELECT ngc3532_20.*, gaiaap.*, dist.*, tmass.*, allwise.*\n",
      "            FROM tap_upload.ngc3532_20 AS ngc3532_20\n",
      "            LEFT JOIN gaiadr3.astrophysical_parameters AS gaiaap USING (source_id)\n",
      "            LEFT JOIN external.gaiaedr3_distance AS dist USING (source_id)\n",
      "            LEFT JOIN gaiadr3.tmass_psc_xsc_best_neighbour AS xmatch_tmass USING (source_id)\n",
      "            LEFT JOIN gaiadr3.tmass_psc_xsc_join AS xjoin_tmass\n",
      "            ON xmatch_tmass.original_ext_source_id = xjoin_tmass.original_psc_source_id\n",
      "            LEFT JOIN gaiadr1.tmass_original_valid AS tmass\n",
      "            ON xjoin_tmass.original_psc_source_id = tmass.designation\n",
      "            LEFT JOIN gaiadr3.allwise_best_neighbour AS xmatch_allwise USING (source_id)\n",
      "            LEFT JOIN gaiadr1.allwise_original_valid AS allwise\n",
      "            ON xmatch_allwise.allwise_oid = allwise.allwise_oid\n",
      "        '\n",
      "------>https\n",
      "host = gea.esac.esa.int:443\n",
      "context = /tap-server/tap/async\n",
      "Content-type = multipart/form-data; boundary====1666381275719===\n",
      "303 303\n",
      "[('Date', 'Fri, 21 Oct 2022 19:41:15 GMT'), ('Server', 'Apache/2.4.6 (CentOS) OpenSSL/1.0.2k-fips mod_jk/1.2.43'), ('Cache-Control', 'no-cache, no-store, max-age=0, must-revalidate'), ('Pragma', 'no-cache'), ('Expires', '0'), ('X-XSS-Protection', '1; mode=block'), ('X-Frame-Options', 'SAMEORIGIN'), ('X-Content-Type-Options', 'nosniff'), ('Set-Cookie', 'JSESSIONID=88978AC3E4DC3B4FEB250CD3500FA181; Path=/tap-server; Secure; HttpOnly'), ('Location', 'https://gea.esac.esa.int/tap-server/tap/async/1666381275782O'), ('Transfer-Encoding', 'chunked'), ('Content-Type', 'text/plain;charset=ISO-8859-1')]\n",
      "job 1666381275782O, at: https://gea.esac.esa.int/tap-server/tap/async/1666381275782O\n",
      "Retrieving async. results...\n",
      "INFO: Query finished. [astroquery.utils.tap.core]\n"
     ]
    }
   ],
   "source": [
    "if CSC_or_CXO == 'CSC':\n",
    "    df_MW = prepare_field(df_res, data_dir, './data/query', field_name, name_col='name',Chandratype='CSC',search_mode='cone_search',engine=search_engine,csc_version=csc_version,create_perobs=False,convert_hms_to_deg=True, gaia_precomputed=True)"
   ]
  },
  {
   "cell_type": "markdown",
   "id": "74b1e257",
   "metadata": {},
   "source": [
    "## Using Source Properties from CXO Pipeline"
   ]
  },
  {
   "cell_type": "code",
   "execution_count": null,
   "id": "19acbc0a",
   "metadata": {},
   "outputs": [],
   "source": [
    "if CSC_or_CXO == 'CXO':\n",
    "    # you need the {obsid}_results.csv, abscor_wav_bright.src, and absolute_wcs_match.log extracted from CSC pipeline\n",
    "\n",
    "    hdul = fits.open(data_dir + '/abscor_wav_bright.src')\n",
    "    src = hdul[1].data\n",
    "    table = Table(src)\n",
    "    df_wav = table[['RA','DEC','COMPONENT','SRC_SIGNIFICANCE','NET_COUNTS','NET_COUNTS_ERR']].to_pandas()\n",
    "\n",
    "    df_res2 = pd.DataFrame()\n",
    "    for obsid in [21137, 24613]:\n",
    "        df_obs = pd.read_csv(f'{data_dir}/{obsid}_results.csv')\n",
    "        df_obs['obsid'] = obsid\n",
    "        df_obs = pd.merge(df_wav, df_obs, on='COMPONENT', how='outer')\n",
    "        df_res2 = pd.concat([df_res2, df_obs], ignore_index=True, sort=False)\n",
    "\n",
    "    pu_astro = get_rms_res(field_name,data_dir,f'{data_dir}/absolute_wcs_match.log')\n",
    "    #print(pu_astro)\n",
    "\n",
    "    df_MW = prepare_field(df_res2, data_dir, './data/query', field_name, name_col='name',Chandratype='CXO',pu_astro=pu_astro,search_mode='cone_search',engine=search_engine,csc_version=csc_version, create_perobs=False,convert_hms_to_deg=False, gaia_precomputed=True)"
   ]
  },
  {
   "cell_type": "markdown",
   "id": "4ec57202",
   "metadata": {},
   "source": [
    "#### read training data , field data and absroption file that is needed to calculate absorption correction "
   ]
  },
  {
   "cell_type": "code",
   "execution_count": 131,
   "id": "fee3fcb5",
   "metadata": {},
   "outputs": [
    {
     "name": "stdout",
     "output_type": "stream",
     "text": [
      "Remove 15 [('LM-STAR', 1), ('YSO', 14)]\n",
      "Final breakdown 2802 [('AGN', 1390), ('CV', 44), ('HM-STAR', 118), ('HMXB', 26), ('LM-STAR', 207), ('LMXB', 65), ('NS', 87), ('YSO', 865)]\n",
      "2 field sources are in the TD:\n",
      "                       name    Class\n",
      "1680  2CXO J110435.9-584520  LM-STAR\n",
      "1681  2CXO J110457.9-584742  LM-STAR\n"
     ]
    }
   ],
   "source": [
    "TD = pd.read_csv('../../files/CSC_TD_MW_remove.csv')\n",
    "TD['Class'] = TD['Class'].replace({'NS_BIN':'LMXB'})\n",
    "TD = prepare_cols(TD, cp_thres=0, TD=True, NS_MWdrop=False, STAR_classremove=['HM-STAR','LM-STAR','YSO']) # some filtering \n",
    "\n",
    "field = pd.read_csv(f'{data_dir}/{field_name}_MW_remove.csv')\n",
    "\n",
    "print(len(field[field.name.isin(TD.name)]), 'field sources are in the TD:')\n",
    "print(TD.loc[TD.name.isin(field.name), ['name','Class']])\n",
    "TD.loc[TD.name.isin(field.name), :].to_csv(f'{data_dir}/TD_{field_name}_MW_remove.csv',index=False)\n",
    "field = field[~field.name.isin(TD.name)].reset_index(drop=True)\n",
    "\n",
    "field = prepare_cols(field, cp_thres=-4, vphas=False,gaiadata=False) # apply with some filterings\n",
    "field.to_csv(f'{data_dir}/{field_name}_MW_remove2.csv',index=False)\n",
    "\n",
    "# tbabs from xpsec Wilms, Allen & McCray (2000)\n",
    "tbabs_ene, tbabs_cross = np.loadtxt('../../files/tbabs.data', skiprows=0)\n",
    "tbabs_cross *= 100\n"
   ]
  },
  {
   "cell_type": "code",
   "execution_count": 132,
   "id": "1e509243",
   "metadata": {},
   "outputs": [
    {
     "data": {
      "text/html": [
       "<div>\n",
       "<style scoped>\n",
       "    .dataframe tbody tr th:only-of-type {\n",
       "        vertical-align: middle;\n",
       "    }\n",
       "\n",
       "    .dataframe tbody tr th {\n",
       "        vertical-align: top;\n",
       "    }\n",
       "\n",
       "    .dataframe thead th {\n",
       "        text-align: right;\n",
       "    }\n",
       "</style>\n",
       "<table border=\"1\" class=\"dataframe\">\n",
       "  <thead>\n",
       "    <tr style=\"text-align: right;\">\n",
       "      <th></th>\n",
       "      <th>name</th>\n",
       "      <th>ra</th>\n",
       "      <th>dec</th>\n",
       "      <th>_r_gaia</th>\n",
       "      <th>DR3Name_gaia</th>\n",
       "      <th>PU</th>\n",
       "    </tr>\n",
       "  </thead>\n",
       "  <tbody>\n",
       "    <tr>\n",
       "      <th>331</th>\n",
       "      <td>2CXO J110543.6-584419</td>\n",
       "      <td>166.432042</td>\n",
       "      <td>-58.738767</td>\n",
       "      <td>2.464713</td>\n",
       "      <td>Gaia DR3 5338658887419115008</td>\n",
       "      <td>1.8</td>\n",
       "    </tr>\n",
       "  </tbody>\n",
       "</table>\n",
       "</div>"
      ],
      "text/plain": [
       "                      name          ra        dec   _r_gaia  \\\n",
       "331  2CXO J110543.6-584419  166.432042 -58.738767  2.464713   \n",
       "\n",
       "                     DR3Name_gaia   PU  \n",
       "331  Gaia DR3 5338658887419115008  1.8  "
      ]
     },
     "execution_count": 132,
     "metadata": {},
     "output_type": "execute_result"
    }
   ],
   "source": [
    "field.loc[field['name']=='2CXO J110543.6-584419', ['name','ra','dec', '_r_gaia', 'DR3Name_gaia', 'PU']]"
   ]
  },
  {
   "cell_type": "markdown",
   "id": "12e66270",
   "metadata": {},
   "source": [
    "Compare differences between Gaia precomputed and no precomputed 2MASS and WISE counterparts"
   ]
  },
  {
   "cell_type": "code",
   "execution_count": null,
   "id": "32c56b36",
   "metadata": {},
   "outputs": [],
   "source": [
    "df_MW_no_precomputed = prepare_field(df_res, data_dir, './data/query', field_name, name_col='name',search_mode='cone_search',engine=search_engine,csc_version=csc_version, convert_hms_to_deg=True, gaia_precomputed=False)\n",
    "field_no_precomputed = prepare_cols(df_MW_no_precomputed, cp_thres=0, vphas=False,gaiadata=False)\n",
    "df_compare = field_no_precomputed[['name', 'DR3Name_gaia', '_2MASS_2mass', 'AllWISE_allwise', 'cp_flag_gaia']].merge(field[['name', 'DR3Name_gaia', '_2MASS_2mass', 'AllWISE_allwise', 'cp_flag_gaia']], on='name', how='outer', indicator=True, suffixes=('_np', '_p'))"
   ]
  },
  {
   "cell_type": "code",
   "execution_count": null,
   "id": "9d16a2b9",
   "metadata": {},
   "outputs": [],
   "source": [
    "# give the rows where _2MASS_2mass_np and _2MASS_2mass_p are different\n",
    "col = 'AllWISE_allwise'\n",
    "comp_idx = df_compare[~(df_compare[col+'_np'].eq(df_compare[col+'_p'])|df_compare.loc[:, [col+'_np',col+'_p']].isna().all(1))].index\n",
    "df_compare[~(df_compare[col+'_np'].eq(df_compare[col+'_p'])|df_compare.loc[:, [col+'_np',col+'_p']].isna().all(1))]\n"
   ]
  },
  {
   "cell_type": "code",
   "execution_count": null,
   "id": "023dc12b",
   "metadata": {},
   "outputs": [],
   "source": [
    "# use astropy to plot coordinates\n",
    "from astropy.coordinates import SkyCoord\n",
    "from astropy import units as u\n",
    "from astropy.visualization import astropy_mpl_style\n",
    "plt.style.use(astropy_mpl_style)\n",
    "\n",
    "for idx in comp_idx:\n",
    "    chandra_coord = SkyCoord(df_MW_no_precomputed.loc[idx, 'ra'], df_MW_no_precomputed.loc[idx, 'dec'], unit=(u.deg, u.deg))\n",
    "    e_ra_chandra = (df_MW_no_precomputed.loc[idx, 'err_ellipse_r0']*u.arcsec).value\n",
    "    e_dec_chandra = (df_MW_no_precomputed.loc[idx, 'err_ellipse_r1']*u.arcsec).value\n",
    "\n",
    "    tmass_coord = SkyCoord(df_MW_no_precomputed.loc[idx, 'RAJ2000_2mass'], df_MW_no_precomputed.loc[idx, 'DEJ2000_2mass'], unit=(u.deg, u.deg))\n",
    "    e_ra_tmass = (df_MW_no_precomputed.loc[idx, 'errMaj_2mass']*u.arcsec).value\n",
    "    e_dec_tmass = (df_MW_no_precomputed.loc[idx, 'errMin_2mass']*u.arcsec).value\n",
    "\n",
    "    allwise_coord = SkyCoord(df_MW_no_precomputed.loc[idx, 'RAJ2000_allwise'], df_MW_no_precomputed.loc[idx, 'DEJ2000_allwise'], unit=(u.deg, u.deg))\n",
    "    e_ra_allwise = (df_MW_no_precomputed.loc[idx, 'eeMaj_allwise']*u.arcsec).value\n",
    "    e_dec_allwise = (df_MW_no_precomputed.loc[idx, 'eeMin_allwise']*u.arcsec).value\n",
    "\n",
    "    gaia_coord = SkyCoord(df_MW_no_precomputed.loc[idx, 'RA_ICRS_gaia'], df_MW_no_precomputed.loc[idx, 'DE_ICRS_gaia'], unit=(u.deg, u.deg))\n",
    "    e_ra_gaia = (df_MW_no_precomputed.loc[idx, 'e_RA_ICRS_gaia']*u.mas).to(u.arcsec).value\n",
    "    e_dec_gaia = (df_MW_no_precomputed.loc[idx, 'e_DE_ICRS_gaia']*u.mas).to(u.arcsec).value\n",
    "\n",
    "\n",
    "    fig = plt.figure(figsize=(10,10))\n",
    "    ax = fig.add_subplot(111)\n",
    "    # ax.ticklabel_format(useOffset=False)\n",
    "    ax.grid(True)\n",
    "    ax.scatter(chandra_coord.ra.arcsec, chandra_coord.dec.arcsec, c='purple')\n",
    "    ax.errorbar(chandra_coord.ra.arcsec, chandra_coord.dec.arcsec, xerr=e_ra_chandra, yerr=e_dec_chandra, fmt='none', ecolor='purple', alpha=0.5)\n",
    "    ax.scatter(tmass_coord.ra.arcsec, tmass_coord.dec.arcsec, c='orange')\n",
    "    ax.errorbar(tmass_coord.ra.arcsec, tmass_coord.dec.arcsec, xerr=e_ra_tmass, yerr=e_dec_tmass, fmt='none', ecolor='orange', alpha=0.5)\n",
    "    ax.scatter(allwise_coord.ra.arcsec, allwise_coord.dec.arcsec, c='red')\n",
    "    ax.errorbar(allwise_coord.ra.arcsec, allwise_coord.dec.arcsec, xerr=e_ra_allwise, yerr=e_dec_allwise, fmt='none', ecolor='red', alpha=0.5)\n",
    "    ax.scatter(gaia_coord.ra.arcsec, gaia_coord.dec.arcsec, c='green')\n",
    "    ax.errorbar(gaia_coord.ra.arcsec, gaia_coord.dec.arcsec, xerr=e_ra_gaia, yerr=e_dec_gaia, fmt='none', ecolor='green', alpha=0.5)\n",
    "    # plot and label the distance between allwise_coord and gaia_coord, and tmass_coord and gaia_coord\n",
    "    ax.plot([allwise_coord.ra.arcsec, gaia_coord.ra.arcsec], [allwise_coord.dec.arcsec, gaia_coord.dec.arcsec], c='black', linestyle='--')\n",
    "    ax.text(allwise_coord.ra.arcsec+0.2, allwise_coord.dec.arcsec+0.2, gaia_coord.separation(allwise_coord).arcsec, fontsize=12)\n",
    "    ax.plot([tmass_coord.ra.arcsec, gaia_coord.ra.arcsec], [tmass_coord.dec.arcsec, gaia_coord.dec.arcsec], c='black', linestyle='--')\n",
    "    ax.text(tmass_coord.ra.arcsec+0.2, tmass_coord.dec.arcsec+0.2, gaia_coord.separation(tmass_coord).arcsec, fontsize=12)\n",
    "    plt.show()"
   ]
  },
  {
   "cell_type": "markdown",
   "id": "70cb173c",
   "metadata": {},
   "source": [
    "#### MUWCLASS pipeline settings"
   ]
  },
  {
   "cell_type": "code",
   "execution_count": 133,
   "id": "41565dc5",
   "metadata": {},
   "outputs": [],
   "source": [
    "Xcat = 'CSC' # CSCv2 catalog is used \n",
    "Uncer_flag = True # applying Monte-Carlo samplings to account the measurement uncertainties \n",
    "num_sample = 1000 # number of MC samplings, we use 1000 for our classification results in https://arxiv.org/abs/2206.13656, 100 is runnable with a few minutes on a laptop\n",
    "class_labels = ['AGN','CV','HM-STAR','LM-STAR','HMXB','LMXB','NS','YSO'] # there are 8 classes of X-ray sources in our current pipeline \n",
    "dist = 'rgeo_lum' # Gaia eDR3 distances and associated luminosities used for classification. Can be turned off by setting to 'nodist'\n"
   ]
  },
  {
   "cell_type": "markdown",
   "id": "4b558747",
   "metadata": {},
   "source": [
    "#### Preprocessing, including Monte-Carlo sampling of feature uncertainties, applying field-specific reddening on AGNs from the TD, standardization, oversampling to mitigate imbalance in TD (see Section 3 in https://arxiv.org/abs/2206.13656)"
   ]
  },
  {
   "cell_type": "code",
   "execution_count": 134,
   "id": "3f80b421",
   "metadata": {},
   "outputs": [],
   "source": [
    "from imblearn.over_sampling import SMOTE, ADASYN, BorderlineSMOTE, SMOTEN, KMeansSMOTE\n",
    "\n",
    "oversample_algorithms = {\n",
    "    'SMOTE': SMOTE( k_neighbors=4, n_jobs=-1), \n",
    "    'ADASYN':ADASYN(n_neighbors=4, n_jobs=-1), \n",
    "    'BorderlineSMOTE':BorderlineSMOTE(k_neighbors=4,n_jobs=-1), \n",
    "    #'KMeansSMOTE':KMeansSMOTE(cluster_balance_threshold=0.01,k_neighbors=4, n_jobs=-1) \n",
    "}\n",
    "\n",
    "oversample_algo = 'SMOTE' # you can add other oversampling algorithms into the list above and change the algorithm that you want to use here"
   ]
  },
  {
   "cell_type": "code",
   "execution_count": 135,
   "id": "1d3d84c6",
   "metadata": {},
   "outputs": [
    {
     "name": "stdout",
     "output_type": "stream",
     "text": [
      "CPU times: total: 18.3 s\n",
      "Wall time: 14min 47s\n"
     ]
    }
   ],
   "source": [
    "# this step takes a few minutes, and it increases linearly as you increase the num_sample (number of MC samplings)\n",
    "\n",
    "num_cores = mp.cpu_count()\n",
    "pool = mp.Pool(int(num_cores))\n",
    "\n",
    "%time arr = [pool.apply(class_prepare_oversample, args=(TD, field, True, RA, DEC, Xcat, dist, Uncer_flag, i, i, tbabs_ene, tbabs_cross,oversample_algorithms[oversample_algo])) for i in range(num_sample)]\n"
   ]
  },
  {
   "cell_type": "markdown",
   "id": "38c260a3",
   "metadata": {},
   "source": [
    "#### Our pipeline uses Random Forest (RF) algorithm as the default model. \n",
    "#### In this demo, we offer the flexibilities that users can choose their preferred model available from scikit-learn package. \n",
    "\n",
    "https://scikit-learn.org/stable/supervised_learning.html\n"
   ]
  },
  {
   "cell_type": "code",
   "execution_count": 143,
   "id": "e3298a61",
   "metadata": {},
   "outputs": [],
   "source": [
    "from sklearn.svm import SVC\n",
    "from sklearn.neighbors import KNeighborsClassifier\n",
    "from sklearn.ensemble import BaggingClassifier, ExtraTreesClassifier, RandomForestClassifier, GradientBoostingClassifier\n",
    "\n",
    "model_dict = {\n",
    "    'RF': RandomForestClassifier(bootstrap=True, class_weight=None, criterion='gini',\n",
    "            max_depth=None, max_features='sqrt', max_leaf_nodes=None,\n",
    "            min_samples_leaf=1, min_samples_split=2,\n",
    "            min_weight_fraction_leaf=0.0, n_estimators=100, n_jobs=None,\n",
    "            oob_score=True, random_state=None, verbose=0, warm_start=False),\n",
    "    'SVC':SVC(gamma='auto',probability=True), \n",
    "    'KNeighbor': KNeighborsClassifier(n_neighbors=10),\n",
    "    'bagging': BaggingClassifier(), \n",
    "    'extratrees': ExtraTreesClassifier(n_estimators=300), \n",
    "    'GB': GradientBoostingClassifier()\n",
    "}\n",
    "\n",
    "model = 'RF' # you can add models into the model list above and change the model that you want to use here"
   ]
  },
  {
   "cell_type": "markdown",
   "id": "bd019611",
   "metadata": {},
   "source": [
    "#### running the classification (training, applying model to field data and saving classification results )"
   ]
  },
  {
   "cell_type": "code",
   "execution_count": null,
   "id": "685d7cf7",
   "metadata": {
    "scrolled": true
   },
   "outputs": [],
   "source": [
    "%%time\n",
    "# this step takes a few minutes\n",
    "\n",
    "arr2 = list(zip(arr, [model_dict[model]]*len(arr)))\n",
    "\n",
    "if __name__ == '__main__':\n",
    "    \n",
    "    with mp.Pool() as pool:\n",
    "        res = pool.map(class_train_model_and_classify, arr2) \n",
    "#print(res)\n",
    "class_save_res(res, dir_out)"
   ]
  },
  {
   "cell_type": "markdown",
   "id": "c75ef554",
   "metadata": {},
   "source": [
    "#### combining the classification results (MC samplings provide the ability to calculate uncertainties on classification probability) "
   ]
  },
  {
   "cell_type": "code",
   "execution_count": 144,
   "id": "af32ea81",
   "metadata": {},
   "outputs": [
    {
     "name": "stdout",
     "output_type": "stream",
     "text": [
      "(373, 118)\n"
     ]
    }
   ],
   "source": [
    "TD_evaluation = pd.read_csv('../../files/LOO_classes.csv')\n",
    "field_mw_class = combine_class_result(field_name, data_dir, dir_out, class_labels, TD_evaluation,radius)#,weight_CM=True)\n",
    "print(field_mw_class.shape)\n",
    "field_XCLASS = field_mw_class.rename(columns={'significance':'Signif.'})\n"
   ]
  },
  {
   "cell_type": "markdown",
   "id": "8f67cc74",
   "metadata": {},
   "source": [
    "#### select confident classified sources based on Confidence Threshold parameter (see Eq. (7) in https://arxiv.org/abs/2206.13656) for visualization "
   ]
  },
  {
   "cell_type": "code",
   "execution_count": 145,
   "id": "e1c43115",
   "metadata": {},
   "outputs": [],
   "source": [
    "CT_cut = 2 # which can be changed"
   ]
  },
  {
   "cell_type": "markdown",
   "id": "9c3068ca",
   "metadata": {},
   "source": [
    "#### combining the classification results (MC samplings provide the ability to calculate uncertainties on classification probability) & saving the file for XCLASS plotting"
   ]
  },
  {
   "cell_type": "code",
   "execution_count": 23,
   "id": "2384b2a8",
   "metadata": {},
   "outputs": [],
   "source": [
    "field_XCLASS.loc[field_XCLASS.CT>=CT_cut,['name','ra','dec','Class','F_b','F_h','F_m','F_s','P_inter','P_intra','Signif.','G','BP','RP','J','H','K','W1','W2','W3']].to_csv(f'{dir_out}/{field_name}_XCLASS.csv')\n"
   ]
  },
  {
   "cell_type": "markdown",
   "id": "5872eb03",
   "metadata": {},
   "source": [
    "## Visualization of classification results "
   ]
  },
  {
   "cell_type": "markdown",
   "id": "d738e644",
   "metadata": {},
   "source": [
    "### MUWCLASS pipeline performance evaluation "
   ]
  },
  {
   "cell_type": "code",
   "execution_count": 24,
   "id": "47864942",
   "metadata": {},
   "outputs": [
    {
     "data": {
      "text/html": [
       "\n",
       "\n",
       "\n",
       "\n",
       "\n",
       "\n",
       "  <div class=\"bk-root\" id=\"792186cf-59c0-4c71-850d-b5c91aa749cb\" data-root-id=\"1003\"></div>\n"
      ]
     },
     "metadata": {},
     "output_type": "display_data"
    },
    {
     "data": {
      "application/javascript": "(function(root) {\n  function embed_document(root) {\n    \n  const docs_json = {\"eb7feb99-0296-4b64-a1ca-470b3743b4d4\":{\"defs\":[{\"extends\":null,\"module\":null,\"name\":\"ReactiveHTML1\",\"overrides\":[],\"properties\":[]},{\"extends\":null,\"module\":null,\"name\":\"FlexBox1\",\"overrides\":[],\"properties\":[{\"default\":\"flex-start\",\"kind\":null,\"name\":\"align_content\"},{\"default\":\"flex-start\",\"kind\":null,\"name\":\"align_items\"},{\"default\":\"row\",\"kind\":null,\"name\":\"flex_direction\"},{\"default\":\"wrap\",\"kind\":null,\"name\":\"flex_wrap\"},{\"default\":\"flex-start\",\"kind\":null,\"name\":\"justify_content\"}]},{\"extends\":null,\"module\":null,\"name\":\"TemplateActions1\",\"overrides\":[],\"properties\":[{\"default\":0,\"kind\":null,\"name\":\"open_modal\"},{\"default\":0,\"kind\":null,\"name\":\"close_modal\"}]},{\"extends\":null,\"module\":null,\"name\":\"MaterialTemplateActions1\",\"overrides\":[],\"properties\":[{\"default\":0,\"kind\":null,\"name\":\"open_modal\"},{\"default\":0,\"kind\":null,\"name\":\"close_modal\"}]}],\"roots\":{\"references\":[{\"attributes\":{\"below\":[{\"id\":\"1014\"}],\"center\":[{\"id\":\"1016\"},{\"id\":\"1019\"}],\"height\":400,\"left\":[{\"id\":\"1017\"}],\"match_aspect\":true,\"outline_line_color\":null,\"renderers\":[{\"id\":\"1039\"},{\"id\":\"1046\"}],\"title\":{\"id\":\"1004\"},\"toolbar\":{\"id\":\"1027\"},\"toolbar_location\":null,\"width\":450,\"x_range\":{\"id\":\"1006\"},\"x_scale\":{\"id\":\"1010\"},\"y_range\":{\"id\":\"1008\"},\"y_scale\":{\"id\":\"1012\"}},\"id\":\"1003\",\"subtype\":\"Figure\",\"type\":\"Plot\"},{\"attributes\":{},\"id\":\"1054\",\"type\":\"CategoricalTickFormatter\"},{\"attributes\":{\"text\":{\"field\":\"counts\"},\"text_align\":{\"value\":\"center\"},\"text_alpha\":{\"value\":0.1},\"text_baseline\":{\"value\":\"middle\"},\"text_color\":{\"value\":\"black\"},\"x\":{\"field\":\"Predicted Class\",\"transform\":{\"id\":\"1041\"}},\"y\":{\"field\":\"True Class\"}},\"id\":\"1044\",\"type\":\"Text\"},{\"attributes\":{\"coordinates\":null,\"group\":null,\"text\":\"Norm. Confusion Matrix (%)\",\"text_font_size\":\"18pt\",\"text_font_style\":\"normal\"},\"id\":\"1004\",\"type\":\"Title\"},{\"attributes\":{\"factors\":[\"YSO\",\"NS\",\"LMXB\",\"HMXB\",\"LM-STAR\",\"HM-STAR\",\"CV\",\"AGN\"]},\"id\":\"1008\",\"type\":\"FactorRange\"},{\"attributes\":{},\"id\":\"1020\",\"type\":\"PanTool\"},{\"attributes\":{\"axis\":{\"id\":\"1017\"},\"coordinates\":null,\"dimension\":1,\"grid_line_color\":null,\"group\":null,\"ticker\":null},\"id\":\"1019\",\"type\":\"Grid\"},{\"attributes\":{},\"id\":\"1010\",\"type\":\"CategoricalScale\"},{\"attributes\":{\"source\":{\"id\":\"1002\"}},\"id\":\"1047\",\"type\":\"CDSView\"},{\"attributes\":{},\"id\":\"1015\",\"type\":\"CategoricalTicker\"},{\"attributes\":{\"text\":{\"field\":\"counts\"},\"text_align\":{\"value\":\"center\"},\"text_baseline\":{\"value\":\"middle\"},\"text_color\":{\"value\":\"black\"},\"text_font_style\":{\"value\":\"bold\"},\"x\":{\"field\":\"Predicted Class\",\"transform\":{\"id\":\"1041\"}},\"y\":{\"field\":\"True Class\"}},\"id\":\"1043\",\"type\":\"Text\"},{\"attributes\":{\"factors\":[\"AGN\",\"CV\",\"HM-STAR\",\"LM-STAR\",\"HMXB\",\"LMXB\",\"NS\",\"YSO\"]},\"id\":\"1006\",\"type\":\"FactorRange\"},{\"attributes\":{},\"id\":\"1057\",\"type\":\"Selection\"},{\"attributes\":{\"fill_alpha\":{\"value\":0.1},\"fill_color\":{\"field\":\"counts\",\"transform\":{\"id\":\"1034\"}},\"hatch_alpha\":{\"value\":0.1},\"hatch_color\":{\"field\":\"counts\",\"transform\":{\"id\":\"1034\"}},\"height\":{\"value\":1},\"line_alpha\":{\"value\":0.1},\"line_color\":{\"value\":null},\"width\":{\"value\":1},\"x\":{\"field\":\"Predicted Class\"},\"y\":{\"field\":\"True Class\"}},\"id\":\"1037\",\"type\":\"Rect\"},{\"attributes\":{},\"id\":\"1055\",\"type\":\"AllLabels\"},{\"attributes\":{\"data\":{\"Predicted Class\":[\"AGN\",\"CV\",\"HM-STAR\",\"LM-STAR\",\"HMXB\",\"LMXB\",\"NS\",\"YSO\",\"AGN\",\"CV\",\"HM-STAR\",\"LM-STAR\",\"HMXB\",\"LMXB\",\"NS\",\"YSO\",\"AGN\",\"CV\",\"HM-STAR\",\"LM-STAR\",\"HMXB\",\"LMXB\",\"NS\",\"YSO\",\"AGN\",\"CV\",\"HM-STAR\",\"LM-STAR\",\"HMXB\",\"LMXB\",\"NS\",\"YSO\",\"AGN\",\"CV\",\"HM-STAR\",\"LM-STAR\",\"HMXB\",\"LMXB\",\"NS\",\"YSO\",\"AGN\",\"CV\",\"HM-STAR\",\"LM-STAR\",\"HMXB\",\"LMXB\",\"NS\",\"YSO\",\"AGN\",\"CV\",\"HM-STAR\",\"LM-STAR\",\"HMXB\",\"LMXB\",\"NS\",\"YSO\",\"AGN\",\"CV\",\"HM-STAR\",\"LM-STAR\",\"HMXB\",\"LMXB\",\"NS\",\"YSO\"],\"True Class\":[\"AGN\",\"AGN\",\"AGN\",\"AGN\",\"AGN\",\"AGN\",\"AGN\",\"AGN\",\"CV\",\"CV\",\"CV\",\"CV\",\"CV\",\"CV\",\"CV\",\"CV\",\"HM-STAR\",\"HM-STAR\",\"HM-STAR\",\"HM-STAR\",\"HM-STAR\",\"HM-STAR\",\"HM-STAR\",\"HM-STAR\",\"LM-STAR\",\"LM-STAR\",\"LM-STAR\",\"LM-STAR\",\"LM-STAR\",\"LM-STAR\",\"LM-STAR\",\"LM-STAR\",\"HMXB\",\"HMXB\",\"HMXB\",\"HMXB\",\"HMXB\",\"HMXB\",\"HMXB\",\"HMXB\",\"LMXB\",\"LMXB\",\"LMXB\",\"LMXB\",\"LMXB\",\"LMXB\",\"LMXB\",\"LMXB\",\"NS\",\"NS\",\"NS\",\"NS\",\"NS\",\"NS\",\"NS\",\"NS\",\"YSO\",\"YSO\",\"YSO\",\"YSO\",\"YSO\",\"YSO\",\"YSO\",\"YSO\"],\"counts\":[\"93\",\"0\",\"0\",\"0\",\"0\",\"3\",\"2\",\"2\",\"9\",\"55\",\"2\",\"2\",\"5\",\"16\",\"5\",\"7\",\"0\",\"0\",\"72\",\"11\",\"0\",\"0\",\"3\",\"14\",\"0\",\"0\",\"6\",\"86\",\"0\",\"0\",\"0\",\"7\",\"0\",\"8\",\"12\",\"0\",\"69\",\"0\",\"0\",\"12\",\"11\",\"20\",\"2\",\"2\",\"2\",\"26\",\"34\",\"5\",\"1\",\"2\",\"0\",\"0\",\"0\",\"26\",\"68\",\"2\",\"1\",\"0\",\"2\",\"2\",\"0\",\"0\",\"0\",\"94\"],\"index\":[0,1,2,3,4,5,6,7,8,9,10,11,12,13,14,15,16,17,18,19,20,21,22,23,24,25,26,27,28,29,30,31,32,33,34,35,36,37,38,39,40,41,42,43,44,45,46,47,48,49,50,51,52,53,54,55,56,57,58,59,60,61,62,63]},\"selected\":{\"id\":\"1057\"},\"selection_policy\":{\"id\":\"1056\"}},\"id\":\"1002\",\"type\":\"ColumnDataSource\"},{\"attributes\":{\"code\":\"\\n            var labels = {'YSO': 'YSO\\\\n1004', 'NS': 'NS\\\\n87', 'LMXB': 'LMXB\\\\n65', 'HMXB': 'HMXB\\\\n26', 'LM-STAR': 'LM-STAR\\\\n207', 'HM-STAR': 'HM-STAR\\\\n118', 'CV': 'CV\\\\n44', 'AGN': 'AGN\\\\n1390'}\\n            return labels[tick]\\n        \"},\"id\":\"1048\",\"type\":\"FuncTickFormatter\"},{\"attributes\":{\"high\":187.05179282868525,\"low\":0,\"palette\":[\"#ffffff\",\"#fffeee\",\"#fffede\",\"#fffecc\",\"#fffeba\",\"#fffea8\",\"#fffd95\",\"#fffc83\",\"#fffb72\",\"#fffb62\",\"#fff953\",\"#fff847\",\"#fff73b\",\"#fff532\",\"#fff42a\",\"#fff324\",\"#fff11e\",\"#fff01a\",\"#ffee17\",\"#ffed14\",\"#ffeb12\",\"#ffea11\",\"#ffe810\",\"#ffe60f\",\"#ffe50e\",\"#ffe30d\",\"#ffe20c\",\"#ffe00b\",\"#ffdf0b\",\"#ffdd0a\",\"#ffdc0a\",\"#ffda09\",\"#ffd909\",\"#ffd708\",\"#ffd508\",\"#ffd407\",\"#ffd207\",\"#ffd106\",\"#ffcf06\",\"#ffce06\",\"#ffcc05\",\"#ffca05\",\"#ffc905\",\"#ffc704\",\"#ffc604\",\"#ffc404\",\"#ffc204\",\"#ffc103\",\"#ffbf03\",\"#ffbd03\",\"#ffbc03\",\"#ffba02\",\"#ffb902\",\"#ffb702\",\"#ffb502\",\"#ffb402\",\"#ffb202\",\"#ffb001\",\"#ffaf01\",\"#ffad01\",\"#ffab01\",\"#ffaa01\",\"#ffa801\",\"#ffa601\",\"#ffa401\",\"#ffa300\",\"#ffa100\",\"#ff9f00\",\"#ff9d00\",\"#ff9c00\",\"#ff9a00\",\"#ff9800\",\"#ff9600\",\"#ff9400\",\"#ff9300\",\"#ff9100\",\"#ff8f00\",\"#ff8d00\",\"#ff8b00\",\"#ff8900\",\"#ff8700\",\"#ff8500\",\"#ff8300\",\"#ff8200\",\"#ff8000\",\"#ff7e00\",\"#fe7c00\",\"#fe7900\",\"#fe7700\",\"#fe7500\",\"#fe7300\",\"#fe7100\",\"#fe6f00\",\"#fe6d00\",\"#fe6b00\",\"#fe6800\",\"#fe6600\",\"#fe6400\",\"#fe6200\",\"#fe5f00\",\"#fe5d00\",\"#fe5b00\",\"#fd5800\",\"#fd5600\",\"#fd5300\",\"#fd5100\",\"#fd4e00\",\"#fc4b00\",\"#fc4900\",\"#fc4600\",\"#fb4300\",\"#fb4000\",\"#fb3d00\",\"#fa3b00\",\"#fa3800\",\"#f93500\",\"#f93200\",\"#f82f00\",\"#f72c00\",\"#f62900\",\"#f62600\",\"#f52300\",\"#f32000\",\"#f21d00\",\"#f11b00\",\"#f01800\",\"#ee1600\",\"#ed1400\",\"#eb1300\",\"#ea1100\",\"#e81000\",\"#e60f00\",\"#e40f00\",\"#e30e00\",\"#e10d00\",\"#df0d00\",\"#dd0c00\",\"#db0c00\",\"#da0b00\",\"#d80b00\",\"#d60a00\",\"#d40a00\",\"#d20a00\",\"#d10900\",\"#cf0900\",\"#cd0900\",\"#cb0800\",\"#c90800\",\"#c80800\",\"#c60800\",\"#c40700\",\"#c20700\",\"#c00700\",\"#bf0700\",\"#bd0600\",\"#bb0600\",\"#b90600\",\"#b80600\",\"#b60600\",\"#b40500\",\"#b20500\",\"#b00500\",\"#af0500\",\"#ad0500\",\"#ab0500\",\"#a90400\",\"#a80400\",\"#a60400\",\"#a40400\",\"#a20400\",\"#a10400\",\"#9f0400\",\"#9d0400\",\"#9c0300\",\"#9a0300\",\"#980300\",\"#960300\",\"#950300\",\"#930300\",\"#910300\",\"#900300\",\"#8e0300\",\"#8c0300\",\"#8a0200\",\"#890200\",\"#870200\",\"#850200\",\"#840200\",\"#820200\",\"#800200\",\"#7f0200\",\"#7d0200\",\"#7b0200\",\"#7a0200\",\"#780200\",\"#760100\",\"#750100\",\"#730100\",\"#710100\",\"#700100\",\"#6e0100\",\"#6d0100\",\"#6b0100\",\"#690100\",\"#680100\",\"#660100\",\"#650100\",\"#630100\",\"#610100\",\"#600100\",\"#5e0100\",\"#5d0100\",\"#5b0100\",\"#590100\",\"#580000\",\"#560000\",\"#550000\",\"#530000\",\"#520000\",\"#500000\",\"#4f0000\",\"#4d0000\",\"#4c0000\",\"#4a0000\",\"#490000\",\"#470000\",\"#460000\",\"#440000\",\"#430000\",\"#410000\",\"#400000\",\"#3e0000\",\"#3d0000\",\"#3b0000\",\"#3a0000\",\"#380000\",\"#370000\",\"#350000\",\"#340000\",\"#320000\",\"#300000\",\"#2e0000\",\"#2d0000\",\"#2b0000\",\"#280000\",\"#260000\",\"#240000\",\"#220000\",\"#1f0000\",\"#1c0000\",\"#190000\",\"#160000\",\"#120000\",\"#0d0000\",\"#060000\",\"#000000\"]},\"id\":\"1034\",\"type\":\"LinearColorMapper\"},{\"attributes\":{\"tools\":[{\"id\":\"1020\"},{\"id\":\"1021\"},{\"id\":\"1022\"},{\"id\":\"1023\"},{\"id\":\"1024\"},{\"id\":\"1025\"}]},\"id\":\"1027\",\"type\":\"Toolbar\"},{\"attributes\":{\"coordinates\":null,\"data_source\":{\"id\":\"1002\"},\"glyph\":{\"id\":\"1036\"},\"group\":null,\"hover_glyph\":null,\"muted_glyph\":{\"id\":\"1038\"},\"nonselection_glyph\":{\"id\":\"1037\"},\"view\":{\"id\":\"1040\"}},\"id\":\"1039\",\"type\":\"GlyphRenderer\"},{\"attributes\":{\"overlay\":{\"id\":\"1026\"}},\"id\":\"1022\",\"type\":\"BoxZoomTool\"},{\"attributes\":{},\"id\":\"1052\",\"type\":\"AllLabels\"},{\"attributes\":{\"axis_label\":\"True Class\",\"axis_label_text_font_size\":\"18pt\",\"axis_label_text_font_style\":\"normal\",\"axis_line_color\":null,\"coordinates\":null,\"formatter\":{\"id\":\"1048\"},\"group\":null,\"major_label_policy\":{\"id\":\"1052\"},\"major_label_text_font_size\":\"10pt\",\"ticker\":{\"id\":\"1018\"}},\"id\":\"1017\",\"type\":\"CategoricalAxis\"},{\"attributes\":{\"source\":{\"id\":\"1002\"}},\"id\":\"1040\",\"type\":\"CDSView\"},{\"attributes\":{\"fill_alpha\":{\"value\":0.6},\"fill_color\":{\"field\":\"counts\",\"transform\":{\"id\":\"1034\"}},\"hatch_color\":{\"field\":\"counts\",\"transform\":{\"id\":\"1034\"}},\"height\":{\"value\":1},\"line_color\":{\"value\":null},\"width\":{\"value\":1},\"x\":{\"field\":\"Predicted Class\"},\"y\":{\"field\":\"True Class\"}},\"id\":\"1036\",\"type\":\"Rect\"},{\"attributes\":{},\"id\":\"1021\",\"type\":\"WheelZoomTool\"},{\"attributes\":{},\"id\":\"1012\",\"type\":\"CategoricalScale\"},{\"attributes\":{\"axis_label\":\"Predicted Class\",\"axis_label_text_font_size\":\"18pt\",\"axis_label_text_font_style\":\"normal\",\"axis_line_color\":null,\"coordinates\":null,\"formatter\":{\"id\":\"1054\"},\"group\":null,\"major_label_orientation\":0.7853981633974483,\"major_label_policy\":{\"id\":\"1055\"},\"major_label_text_font_size\":\"10pt\",\"ticker\":{\"id\":\"1015\"}},\"id\":\"1014\",\"type\":\"CategoricalAxis\"},{\"attributes\":{},\"id\":\"1023\",\"type\":\"SaveTool\"},{\"attributes\":{},\"id\":\"1018\",\"type\":\"CategoricalTicker\"},{\"attributes\":{\"bottom_units\":\"screen\",\"coordinates\":null,\"fill_alpha\":0.5,\"fill_color\":\"lightgrey\",\"group\":null,\"left_units\":\"screen\",\"level\":\"overlay\",\"line_alpha\":1.0,\"line_color\":\"black\",\"line_dash\":[4,4],\"line_width\":2,\"right_units\":\"screen\",\"syncable\":false,\"top_units\":\"screen\"},\"id\":\"1026\",\"type\":\"BoxAnnotation\"},{\"attributes\":{},\"id\":\"1056\",\"type\":\"UnionRenderers\"},{\"attributes\":{\"coordinates\":null,\"data_source\":{\"id\":\"1002\"},\"glyph\":{\"id\":\"1043\"},\"group\":null,\"hover_glyph\":null,\"muted_glyph\":{\"id\":\"1045\"},\"nonselection_glyph\":{\"id\":\"1044\"},\"view\":{\"id\":\"1047\"}},\"id\":\"1046\",\"type\":\"GlyphRenderer\"},{\"attributes\":{\"fill_alpha\":{\"value\":0.2},\"fill_color\":{\"field\":\"counts\",\"transform\":{\"id\":\"1034\"}},\"hatch_alpha\":{\"value\":0.2},\"hatch_color\":{\"field\":\"counts\",\"transform\":{\"id\":\"1034\"}},\"height\":{\"value\":1},\"line_alpha\":{\"value\":0.2},\"line_color\":{\"value\":null},\"width\":{\"value\":1},\"x\":{\"field\":\"Predicted Class\"},\"y\":{\"field\":\"True Class\"}},\"id\":\"1038\",\"type\":\"Rect\"},{\"attributes\":{},\"id\":\"1024\",\"type\":\"ResetTool\"},{\"attributes\":{},\"id\":\"1025\",\"type\":\"HelpTool\"},{\"attributes\":{\"text\":{\"field\":\"counts\"},\"text_align\":{\"value\":\"center\"},\"text_alpha\":{\"value\":0.2},\"text_baseline\":{\"value\":\"middle\"},\"text_color\":{\"value\":\"black\"},\"x\":{\"field\":\"Predicted Class\",\"transform\":{\"id\":\"1041\"}},\"y\":{\"field\":\"True Class\"}},\"id\":\"1045\",\"type\":\"Text\"},{\"attributes\":{\"axis\":{\"id\":\"1014\"},\"coordinates\":null,\"grid_line_color\":null,\"group\":null,\"ticker\":null},\"id\":\"1016\",\"type\":\"Grid\"},{\"attributes\":{\"range\":{\"id\":\"1006\"}},\"id\":\"1041\",\"type\":\"Dodge\"}],\"root_ids\":[\"1003\"]},\"title\":\"Bokeh Application\",\"version\":\"2.4.2\"}};\n  const render_items = [{\"docid\":\"eb7feb99-0296-4b64-a1ca-470b3743b4d4\",\"root_ids\":[\"1003\"],\"roots\":{\"1003\":\"792186cf-59c0-4c71-850d-b5c91aa749cb\"}}];\n  root.Bokeh.embed.embed_items_notebook(docs_json, render_items);\n\n  }\n  if (root.Bokeh !== undefined) {\n    embed_document(root);\n  } else {\n    let attempts = 0;\n    const timer = setInterval(function(root) {\n      if (root.Bokeh !== undefined) {\n        clearInterval(timer);\n        embed_document(root);\n      } else {\n        attempts++;\n        if (attempts > 100) {\n          clearInterval(timer);\n          console.log(\"Bokeh: ERROR: Unable to run BokehJS code because BokehJS library is missing\");\n        }\n      }\n    }, 10, root)\n  }\n})(window);",
      "application/vnd.bokehjs_exec.v0+json": ""
     },
     "metadata": {
      "application/vnd.bokehjs_exec.v0+json": {
       "id": "1003"
      }
     },
     "output_type": "display_data"
    },
    {
     "data": {
      "image/png": "[encoded data removed]",
      "text/plain": [
       "<Figure size 500x1000 with 1 Axes>"
      ]
     },
     "metadata": {},
     "output_type": "display_data"
    }
   ],
   "source": [
    "# confusion matrix\n",
    "recall_cm = plot_confusion_matrix(pd.read_csv('../../files/LOO_classes.csv'),classes=class_labels,title='Norm. Confusion Matrix (%)',width=450,height=400)\n",
    "show(recall_cm)\n",
    "\n",
    "# feature importance\n",
    "feaimps = pd.read_csv('../../files/feature_importance.csv')\n",
    "fea_imp = plot_Feature_Importance_withSTD(feaimps.iloc[0], feaimps.iloc[1],feaimps.columns,400,800)\n"
   ]
  },
  {
   "cell_type": "markdown",
   "id": "0f4539ec",
   "metadata": {},
   "source": [
    "### XCLASS interactive plotting website of TD overplotted with field data \n",
    "\n",
    "https://home.gwu.edu/~kargaltsev/XCLASS/\n",
    "\n",
    "* click on Choose File and upload {dir_out}/{field_name}_XCLASS.csv to overplot the field data\n"
   ]
  },
  {
   "cell_type": "markdown",
   "id": "57913c95",
   "metadata": {},
   "source": [
    "#### Visualizing the classification matrix\n",
    "The classification matrix shows the probability array (the probability to be classified to 8 classes of X-ray emitters from TD) in each row for each source in the field "
   ]
  },
  {
   "cell_type": "code",
   "execution_count": 38,
   "id": "f38ee5df",
   "metadata": {},
   "outputs": [],
   "source": [
    "# the sources to plot the classification matrix can be defined by users\n",
    "\n",
    "# this example plots the top 2 least confidently classified sources and top 3 most confidently classified sources\n",
    "df_class_matrix = field_mw_class[field_mw_class.CT>0].sort_values(by=['CT'])\n",
    "df_class_matrix = pd.concat([df_class_matrix.head(2), df_class_matrix.tail(3)])\n",
    "\n",
    "plot_class_matrix(field_name, df_class_matrix, dir_plot, class_labels)"
   ]
  },
  {
   "cell_type": "markdown",
   "id": "fa509096",
   "metadata": {},
   "source": [
    "#### The histograms of all and confident classifications "
   ]
  },
  {
   "cell_type": "code",
   "execution_count": 146,
   "id": "8a04d672",
   "metadata": {},
   "outputs": [],
   "source": [
    "\n",
    "fig, (ax1, ax2) = plt.subplots(1, 2, figsize=(10,5))\n",
    "# cut on significance\n",
    "field_mw_class = field_mw_class.loc[field_mw_class['flux_significance_b_max']>5]\n",
    "print(f'Number of sources with significance > 5: {len(field_mw_class)}')\n",
    "field_mw_class['Class'].value_counts().plot(kind='bar', ax=ax1, title='All Classification')\n",
    "field_mw_class[field_mw_class.CT>=CT_cut]['Class'].value_counts().plot(kind='bar', ax=ax2, title='Confident Classification')\n",
    "plt.gcf().subplots_adjust(bottom=0.2)\n",
    "plt.savefig(f'{dir_plot}/{field_name}_class_results.png', dpi=300)\n"
   ]
  },
  {
   "cell_type": "markdown",
   "id": "03b8e689",
   "metadata": {},
   "source": [
    "#### multi-band spectrum of TD overplotted with field data (in cyan)\n",
    "* set plot_classes the classes of sources that you want to plot the broadband SEDs\n",
    "* The fluxes are normalized so that the medium band fluxes are all the same\n",
    "* The color indicates the density of the sources from the TD In the multi-band spectrum"
   ]
  },
  {
   "cell_type": "code",
   "execution_count": 18,
   "id": "d2f42e9d",
   "metadata": {},
   "outputs": [
    {
     "data": {
      "text/plain": [
       "Index(['name', 'ra', 'dec', 'PU', 'significance', 'Fcsc_s', 'e_Fcsc_s',\n",
       "       'Fcsc_m', 'e_Fcsc_m', 'Fcsc_h', 'e_Fcsc_h', 'flux_aper90_ave_b',\n",
       "       'e_flux_aper90_ave_b', 'var_intra_prob', 'var_inter_prob', 'CSC_flags',\n",
       "       'EDR3Name_gaia', '_r_gaia', 'PU_gaia', 'RA_ICRS_gaia', 'DE_ICRS_gaia',\n",
       "       'Gmag', 'e_Gmag', 'BPmag', 'e_BPmag', 'RPmag', 'e_RPmag', 'Plx',\n",
       "       'e_Plx', 'PM', 'rgeo', 'b_rgeo', 'B_rgeo', 'rpgeo', 'b_rpgeo',\n",
       "       'B_rpgeo', 'cp_flag_gaia', '_2MASS_2mass', '_r_2mass', 'PU_2mass',\n",
       "       'RAJ2000_2mass', 'DEJ2000_2mass', 'Jmag', 'e_Jmag', 'Hmag', 'e_Hmag',\n",
       "       'Kmag', 'e_Kmag', 'cp_flag_2mass', 'Name_catwise', '_r_catwise',\n",
       "       'PU_catwise', 'RA_ICRS_catwise', 'DE_ICRS_catwise', 'W1mag_catwise',\n",
       "       'e_W1mag_catwise', 'W2mag_catwise', 'e_W2mag_catwise',\n",
       "       'cp_flag_catwise', 'objID_unwise', '_r_unwise', 'PU_unwise',\n",
       "       'RAJ2000_unwise', 'DEJ2000_unwise', 'W1mag_unwise', 'e_W1mag_unwise',\n",
       "       'W2mag_unwise', 'e_W2mag_unwise', 'cp_flag_unwise', 'AllWISE_allwise',\n",
       "       '_r_allwise', 'PU_allwise', 'RAJ2000_allwise', 'DEJ2000_allwise',\n",
       "       'W1mag_allwise', 'e_W1mag_allwise', 'W2mag_allwise', 'e_W2mag_allwise',\n",
       "       'W3mag', 'e_W3mag', 'W4mag', 'e_W4mag', 'cp_flag_allwise', 'Class',\n",
       "       'cp_flag_wise12', 'which_wise12', 'W1mag', 'e_W1mag', 'W2mag',\n",
       "       'e_W2mag'],\n",
       "      dtype='object')"
      ]
     },
     "execution_count": 18,
     "metadata": {},
     "output_type": "execute_result"
    }
   ],
   "source": [
    "TD.columns"
   ]
  },
  {
   "cell_type": "code",
   "execution_count": 19,
   "id": "023a4421",
   "metadata": {},
   "outputs": [],
   "source": [
    "TD_mw = TD.rename(columns={'Fcsc_s':'F_s','Fcsc_m':'F_m','Fcsc_h':'F_h','flux_aper90_ave_b':'F_b',\\\n",
    "                            'Gmag':'G','BPmag':'BP','RPmag':'RP','Jmag':'J','Hmag':'H','Kmag':'K','W1mag':'W1','W2mag':'W2','W3mag':'W3',\\\n",
    "                            'var_intra_prob':'P_intra', 'var_inter_prob':'P_inter'})"
   ]
  },
  {
   "cell_type": "code",
   "execution_count": 54,
   "id": "d4590a10",
   "metadata": {},
   "outputs": [
    {
     "data": {},
     "metadata": {},
     "output_type": "display_data"
    },
    {
     "data": {},
     "execution_count": 54,
     "metadata": {
      "application/vnd.holoviews_exec.v0+json": {
       "id": "1104"
      }
     },
     "output_type": "execute_result"
    }
   ],
   "source": [
    "plot_classes = ['YSO','LMXB','LM-STAR','NS','CV','AGN']\n",
    "plotlist = [plot_bbsed(TD_mw, field_mw_class, dir_plot, plot_class=c, save_class=[], confidence=True, TD_name_col=False) for c in plot_classes]\n",
    "\n",
    "layout = hv.Layout(plotlist).cols(3)\n",
    "\n",
    "layout"
   ]
  },
  {
   "cell_type": "markdown",
   "id": "f3559c9f",
   "metadata": {},
   "source": [
    "#### prepare the event file and plot X-ray images with classification results overplotted (these images are saved in plot directory)\n",
    "\n",
    "##### a ds9 window will pop up for data processing which can be ignored "
   ]
  },
  {
   "cell_type": "code",
   "execution_count": 22,
   "id": "05b80bda",
   "metadata": {},
   "outputs": [
    {
     "name": "stderr",
     "output_type": "stream",
     "text": [
      "bash: to_merge.sh: No such file or directory\n"
     ]
    }
   ],
   "source": [
    "# this takes a few minutes up to an hour to run depending on how many ObsIDs are used for the field\n",
    "if ciao:\n",
    "    evt2_data,  fn_evt2 = prepare_evts_plot_xray_class(field_name, RA, DEC, radius, data_dir, dir_out)"
   ]
  },
  {
   "cell_type": "markdown",
   "id": "6a3c87c7",
   "metadata": {},
   "source": [
    "#### plotting multi-band field images with ipyaladin "
   ]
  },
  {
   "cell_type": "code",
   "execution_count": 55,
   "id": "2e173202",
   "metadata": {},
   "outputs": [
    {
     "data": {
      "application/vnd.jupyter.widget-view+json": {
       "model_id": "5e0ca17bbbd84e8cbcb7228e16aa1526",
       "version_major": 2,
       "version_minor": 0
      },
      "text/plain": [
       "Aladin(fov=0.6, options=['allow_full_zoomout', 'coo_frame', 'fov', 'full_screen', 'log', 'overlay_survey', 'ov…"
      ]
     },
     "execution_count": 23,
     "metadata": {},
     "output_type": "execute_result"
    }
   ],
   "source": [
    "\n",
    "aladin = ipyal.Aladin(target=str(RA)+' '+str(DEC), fov=radius/20)\n",
    "\n",
    "\n",
    "dtb = QTable.from_pandas(field_mw_class[field_mw_class.conf_flag>0])\n",
    "\n",
    "aladin"
   ]
  },
  {
   "cell_type": "code",
   "execution_count": 56,
   "id": "4321c6eb",
   "metadata": {},
   "outputs": [],
   "source": [
    "aladin.add_table(dtb)"
   ]
  },
  {
   "cell_type": "markdown",
   "id": "c03b12ce",
   "metadata": {},
   "source": [
    "#### Interactive plotting of X-ray image overplotted with classification results "
   ]
  },
  {
   "cell_type": "code",
   "execution_count": 25,
   "id": "71f8cd78",
   "metadata": {
    "scrolled": false
   },
   "outputs": [
    {
     "data": {},
     "metadata": {},
     "output_type": "display_data"
    },
    {
     "data": {},
     "execution_count": 25,
     "metadata": {
      "application/vnd.holoviews_exec.v0+json": {
       "id": "2539"
      }
     },
     "output_type": "execute_result"
    }
   ],
   "source": [
    "if ciao:\n",
    "    interactive_Ximg_class(field_name, evt2_data, fn_evt2, dir_out, RA, DEC, radius,include_TD=True)\n",
    "\n",
    "#interactive_Ximg_class(src, evt2_data, fn_evt2, src_dir,RA=df_single.loc[0, 'RA_ICRS'],DEC=df_single.loc[0, 'DE_ICRS'], radius=df_single.loc[0, 'PU_TeV'],include_TD=True)\n",
    "        "
   ]
  },
  {
   "cell_type": "markdown",
   "id": "b24b7428",
   "metadata": {},
   "source": [
    "## Q&A\n",
    "* What kind of user interface would you like for the MUWCLASS pipeline? \n",
    "* Do you have any comments or suggestions that can help us improve the MUWCLASS pipeline?"
   ]
  },
  {
   "cell_type": "code",
   "execution_count": null,
   "id": "aa96fb3e",
   "metadata": {},
   "outputs": [],
   "source": []
  }
 ],
 "metadata": {
  "kernelspec": {
   "display_name": "ciao-4.14",
   "language": "python",
   "name": "python3"
  },
  "language_info": {
   "codemirror_mode": {
    "name": "ipython",
    "version": 3
   },
   "file_extension": ".py",
   "mimetype": "text/x-python",
   "name": "python",
   "nbconvert_exporter": "python",
   "pygments_lexer": "ipython3",
   "version": "3.0.0"
  },
  "vscode": {
   "interpreter": {
    "hash": "fc3d7e1f0fc2b7d2818bae1cccb61e7e309160466402b12e490a7d92adf88d8e"
   }
  }
 },
 "nbformat": 4,
 "nbformat_minor": 5
}
